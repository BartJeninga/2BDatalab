{
 "cells": [
  {
   "cell_type": "code",
   "execution_count": 1,
   "id": "3806ce18",
   "metadata": {},
   "outputs": [],
   "source": [
    "import pandas as pd\n",
    "import sqlite3\n",
    "from sqlalchemy import create_engine\n",
    "engine = create_engine('sqlite://', echo=False)\n",
    "\n",
    "con = sqlite3.connect(\"database.sqlite\")\n",
    "\n",
    "# Load the data into a DataFrame\n",
    "df_country = pd.read_sql_query(\"SELECT * from country\", con)\n",
    "df_league = pd.read_sql_query(\"SELECT * from league\", con)\n",
    "df_match = pd.read_sql_query(\"SELECT * from match\", con)\n",
    "df_player = pd.read_sql_query(\"SELECT * from player\", con)\n",
    "df_player_attributes = pd.read_sql_query(\"SELECT * from player_attributes\", con)\n",
    "df_team = pd.read_sql_query(\"SELECT * from team\", con)\n",
    "df_team_attributes = pd.read_sql_query(\"SELECT * from team_attributes\", con)\n",
    "\n",
    "con.close()"
   ]
  },
  {
   "cell_type": "code",
   "execution_count": null,
   "id": "d0be6646",
   "metadata": {},
   "outputs": [],
   "source": []
  }
 ],
 "metadata": {
  "kernelspec": {
   "display_name": "Python 3 (ipykernel)",
   "language": "python",
   "name": "python3"
  },
  "language_info": {
   "codemirror_mode": {
    "name": "ipython",
    "version": 3
   },
   "file_extension": ".py",
   "mimetype": "text/x-python",
   "name": "python",
   "nbconvert_exporter": "python",
   "pygments_lexer": "ipython3",
   "version": "3.9.15"
  }
 },
 "nbformat": 4,
 "nbformat_minor": 5
}
