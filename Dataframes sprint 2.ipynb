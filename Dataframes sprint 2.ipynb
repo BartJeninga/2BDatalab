{
 "cells": [
  {
   "cell_type": "code",
   "execution_count": 162,
   "id": "3806ce18",
   "metadata": {},
   "outputs": [],
   "source": [
    "import pandas as pd\n",
    "import sqlite3\n",
    "import warnings\n",
    "warnings.filterwarnings('ignore')\n",
    "con = sqlite3.connect(\"database.sqlite\")\n",
    "\n",
    "def show_query(query):\n",
    "    \"\"\"\n",
    "       Deze functie print de output van je SQL query uit.\n",
    "       Parameters:\n",
    "                  query = Je SQL query.\n",
    "                          Zorg ervoor dat deze parameter een string is.\n",
    "    \"\"\"\n",
    "    query_output = pd.read_sql_query(query, con)\n",
    "    return pd.DataFrame(query_output)\n"
   ]
  },
  {
   "cell_type": "code",
   "execution_count": 163,
   "id": "3f3a9ae5",
   "metadata": {},
   "outputs": [],
   "source": [
    "# Load the data into a DataFrame\n",
    "df_country = show_query(\"SELECT * FROM Country\")\n",
    "df_league = show_query(\"SELECT * FROM League\")\n",
    "df_match = show_query(\"SELECT * FROM Match\")\n",
    "df_player = show_query(\"SELECT * FROM Player\")\n",
    "df_player_attributes = show_query(\"SELECT * FROM Player_Attributes\")\n",
    "df_team = show_query(\"SELECT * FROM Team\")\n",
    "df_team_attributes = show_query(\"SELECT * FROM Team_Attributes\")"
   ]
  },
  {
   "cell_type": "markdown",
   "id": "d4778b16",
   "metadata": {},
   "source": [
    "Maak een functie waarmee je per seizoen voor een gekozen club o.a. het volgende kunt bepalen:\n",
    "\n",
    "- Aantal wedstrijden in dat seizoen.\n",
    "- Aantal punten behaald in dat seizoen.\n",
    "- Gemiddeld aantal punten per wedstrijd.\n",
    "- Winst-, verlies- en gelijk percentage in uitwedstrijden en thuiswedstrijden."
   ]
  },
  {
   "cell_type": "code",
   "execution_count": 173,
   "id": "ab7a7d01",
   "metadata": {},
   "outputs": [],
   "source": [
    "def matchinfo(teamid, season):\n",
    "    home_match_results = []\n",
    "    home_team_points = []\n",
    "    homedf = df_match[(df_match['home_team_api_id'] == teamid) & (df_match['season'] == season)]\n",
    "    for index,row in homedf.iterrows():\n",
    "        if row['home_team_goal'] > row['away_team_goal']:\n",
    "            home_match_results.append('win')\n",
    "            home_team_points.append(3)\n",
    "        elif row['home_team_goal'] == row['away_team_goal']:\n",
    "            home_match_results.append('draw')\n",
    "            home_team_points.append(1)\n",
    "        else:\n",
    "            home_match_results.append('loss')\n",
    "            home_team_points.append(0)\n",
    "   \n",
    "   \n",
    "    homedf['match_results'] = home_match_results\n",
    "    homedf['team_points'] = home_team_points\n",
    "   \n",
    "    away_match_results = []\n",
    "    away_team_points = []\n",
    "    awaydf = df_match[(df_match['away_team_api_id'] == teamid) & (df_match['season'] == season)]\n",
    "    for index,row in awaydf.iterrows():\n",
    "        if row['away_team_goal'] > row['home_team_goal']:\n",
    "            away_match_results.append('win')\n",
    "            away_team_points.append(3)\n",
    "        elif row['away_team_goal'] == row['home_team_goal']:\n",
    "            away_match_results.append('draw')\n",
    "            away_team_points.append(1)\n",
    "        else:\n",
    "            away_match_results.append('loss')\n",
    "            away_team_points.append(0)\n",
    "   \n",
    "    awaydf['match_results'] = away_match_results\n",
    "    awaydf['team_points'] = away_team_points\n",
    "   \n",
    "    homepoints = homedf['team_points'].sum()\n",
    "    awaypoints = awaydf['team_points'].sum()\n",
    "    \n",
    "    totalpoints = homepoints + awaypoints\n",
    "    totalmatch = len(homedf) + len(awaydf)\n",
    "    averagepoints = totalpoints / totalmatch\n",
    "    \n",
    "    totalmatch_home = len(homedf) \n",
    "    if totalmatch_home > 0:\n",
    "        perc_win_home = len(homedf[homedf['team_points'] == 3]) / totalmatch_home * 100\n",
    "        perc_draw_home = len(homedf[homedf['team_points'] == 1]) / totalmatch_home * 100\n",
    "        perc_loss_home = len(homedf[homedf['team_points'] == 0]) / totalmatch_home * 100\n",
    "    else: \n",
    "        perc_win_home = 0\n",
    "        perc_draw_home = 0\n",
    "        perc_loss_home = 0\n",
    "    \n",
    "    totalmatch_away = len(awaydf)\n",
    "    if totalmatch_away > 0:\n",
    "        perc_win_away = len(awaydf[awaydf['team_points'] == 3]) / totalmatch_away * 100\n",
    "        perc_draw_away = len(awaydf[awaydf['team_points'] == 1]) / totalmatch_away * 100\n",
    "        perc_loss_away = len(awaydf[awaydf['team_points'] == 0]) / totalmatch_away * 100\n",
    "    else: \n",
    "        perc_win_away = 0\n",
    "        perc_draw_away = 0\n",
    "        perc_loss_away = 0\n",
    "    \n",
    "    df = pd.DataFrame()\n",
    "    df['season'] = [season]\n",
    "    df['team'] = teamid\n",
    "    df['total_games'] = totalmatch\n",
    "    df['total_points'] = totalpoints\n",
    "    df['average_points'] = averagepoints\n",
    "    df['perc_win_home'] = perc_win_home\n",
    "    df['perc_draw_home'] = perc_draw_home\n",
    "    df['perc_loss_home'] = perc_loss_home\n",
    "    df['perc_win_away'] = perc_win_away\n",
    "    df['perc_draw_away'] = perc_draw_away\n",
    "    df['perc_loss_away'] = perc_loss_away\n",
    "    \n",
    "    return df"
   ]
  },
  {
   "cell_type": "code",
   "execution_count": 174,
   "id": "d74c695b",
   "metadata": {},
   "outputs": [
    {
     "data": {
      "text/html": [
       "<div>\n",
       "<style scoped>\n",
       "    .dataframe tbody tr th:only-of-type {\n",
       "        vertical-align: middle;\n",
       "    }\n",
       "\n",
       "    .dataframe tbody tr th {\n",
       "        vertical-align: top;\n",
       "    }\n",
       "\n",
       "    .dataframe thead th {\n",
       "        text-align: right;\n",
       "    }\n",
       "</style>\n",
       "<table border=\"1\" class=\"dataframe\">\n",
       "  <thead>\n",
       "    <tr style=\"text-align: right;\">\n",
       "      <th></th>\n",
       "      <th>season</th>\n",
       "      <th>team</th>\n",
       "      <th>total_games</th>\n",
       "      <th>total_points</th>\n",
       "      <th>average_points</th>\n",
       "      <th>perc_win_home</th>\n",
       "      <th>perc_draw_home</th>\n",
       "      <th>perc_loss_home</th>\n",
       "      <th>perc_win_away</th>\n",
       "      <th>perc_draw_away</th>\n",
       "      <th>perc_loss_away</th>\n",
       "    </tr>\n",
       "  </thead>\n",
       "  <tbody>\n",
       "    <tr>\n",
       "      <th>0</th>\n",
       "      <td>2008/2009</td>\n",
       "      <td>10228</td>\n",
       "      <td>34</td>\n",
       "      <td>60</td>\n",
       "      <td>1.764706</td>\n",
       "      <td>64.705882</td>\n",
       "      <td>29.411765</td>\n",
       "      <td>5.882353</td>\n",
       "      <td>35.294118</td>\n",
       "      <td>23.529412</td>\n",
       "      <td>41.176471</td>\n",
       "    </tr>\n",
       "  </tbody>\n",
       "</table>\n",
       "</div>"
      ],
      "text/plain": [
       "      season   team  total_games  total_points  average_points  perc_win_home  \\\n",
       "0  2008/2009  10228           34            60        1.764706      64.705882   \n",
       "\n",
       "   perc_draw_home  perc_loss_home  perc_win_away  perc_draw_away  \\\n",
       "0       29.411765        5.882353      35.294118       23.529412   \n",
       "\n",
       "   perc_loss_away  \n",
       "0       41.176471  "
      ]
     },
     "execution_count": 174,
     "metadata": {},
     "output_type": "execute_result"
    }
   ],
   "source": [
    "matchinfo(10228, '2008/2009')"
   ]
  },
  {
   "cell_type": "code",
   "execution_count": 179,
   "id": "f9222f37",
   "metadata": {
    "scrolled": false
   },
   "outputs": [
    {
     "ename": "AttributeError",
     "evalue": "'DataFrame' object has no attribute 'concat'",
     "output_type": "error",
     "traceback": [
      "\u001b[1;31m---------------------------------------------------------------------------\u001b[0m",
      "\u001b[1;31mAttributeError\u001b[0m                            Traceback (most recent call last)",
      "Input \u001b[1;32mIn [179]\u001b[0m, in \u001b[0;36m<cell line: 4>\u001b[1;34m()\u001b[0m\n\u001b[0;32m      3\u001b[0m df_season \u001b[38;5;241m=\u001b[39m pd\u001b[38;5;241m.\u001b[39mDataFrame()\n\u001b[0;32m      4\u001b[0m \u001b[38;5;28;01mfor\u001b[39;00m team \u001b[38;5;129;01min\u001b[39;00m team_list:\n\u001b[1;32m----> 5\u001b[0m     \u001b[43mdf_season\u001b[49m\u001b[38;5;241;43m.\u001b[39;49m\u001b[43mconcat\u001b[49m(team, \u001b[38;5;124m'\u001b[39m\u001b[38;5;124m2008/2009\u001b[39m\u001b[38;5;124m'\u001b[39m)\n",
      "File \u001b[1;32m~\\anaconda3\\lib\\site-packages\\pandas\\core\\generic.py:5575\u001b[0m, in \u001b[0;36mNDFrame.__getattr__\u001b[1;34m(self, name)\u001b[0m\n\u001b[0;32m   5568\u001b[0m \u001b[38;5;28;01mif\u001b[39;00m (\n\u001b[0;32m   5569\u001b[0m     name \u001b[38;5;129;01mnot\u001b[39;00m \u001b[38;5;129;01min\u001b[39;00m \u001b[38;5;28mself\u001b[39m\u001b[38;5;241m.\u001b[39m_internal_names_set\n\u001b[0;32m   5570\u001b[0m     \u001b[38;5;129;01mand\u001b[39;00m name \u001b[38;5;129;01mnot\u001b[39;00m \u001b[38;5;129;01min\u001b[39;00m \u001b[38;5;28mself\u001b[39m\u001b[38;5;241m.\u001b[39m_metadata\n\u001b[0;32m   5571\u001b[0m     \u001b[38;5;129;01mand\u001b[39;00m name \u001b[38;5;129;01mnot\u001b[39;00m \u001b[38;5;129;01min\u001b[39;00m \u001b[38;5;28mself\u001b[39m\u001b[38;5;241m.\u001b[39m_accessors\n\u001b[0;32m   5572\u001b[0m     \u001b[38;5;129;01mand\u001b[39;00m \u001b[38;5;28mself\u001b[39m\u001b[38;5;241m.\u001b[39m_info_axis\u001b[38;5;241m.\u001b[39m_can_hold_identifiers_and_holds_name(name)\n\u001b[0;32m   5573\u001b[0m ):\n\u001b[0;32m   5574\u001b[0m     \u001b[38;5;28;01mreturn\u001b[39;00m \u001b[38;5;28mself\u001b[39m[name]\n\u001b[1;32m-> 5575\u001b[0m \u001b[38;5;28;01mreturn\u001b[39;00m \u001b[38;5;28;43mobject\u001b[39;49m\u001b[38;5;241;43m.\u001b[39;49m\u001b[38;5;21;43m__getattribute__\u001b[39;49m\u001b[43m(\u001b[49m\u001b[38;5;28;43mself\u001b[39;49m\u001b[43m,\u001b[49m\u001b[43m \u001b[49m\u001b[43mname\u001b[49m\u001b[43m)\u001b[49m\n",
      "\u001b[1;31mAttributeError\u001b[0m: 'DataFrame' object has no attribute 'concat'"
     ]
    }
   ],
   "source": [
    "team_list = list(df_match['home_team_api_id'].unique())\n",
    "\n",
    "df_season = pd.DataFrame()\n",
    "for team in team_list:\n",
    "    df_season.concat(team, '2008/2009')\n",
    "    \n"
   ]
  }
 ],
 "metadata": {
  "kernelspec": {
   "display_name": "Python 3 (ipykernel)",
   "language": "python",
   "name": "python3"
  },
  "language_info": {
   "codemirror_mode": {
    "name": "ipython",
    "version": 3
   },
   "file_extension": ".py",
   "mimetype": "text/x-python",
   "name": "python",
   "nbconvert_exporter": "python",
   "pygments_lexer": "ipython3",
   "version": "3.9.12"
  }
 },
 "nbformat": 4,
 "nbformat_minor": 5
}
