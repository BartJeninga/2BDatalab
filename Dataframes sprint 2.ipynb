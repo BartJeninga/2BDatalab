{
 "cells": [
  {
   "cell_type": "code",
   "execution_count": 67,
   "id": "3806ce18",
   "metadata": {},
   "outputs": [],
   "source": [
    "import pandas as pd\n",
    "import sqlite3\n",
    "con = sqlite3.connect(\"database.sqlite\")\n",
    "\n",
    "def show_query(query):\n",
    "    \"\"\"\n",
    "       Deze functie print de output van je SQL query uit.\n",
    "       Parameters:\n",
    "                  query = Je SQL query.\n",
    "                          Zorg ervoor dat deze parameter een string is.\n",
    "    \"\"\"\n",
    "    query_output = pd.read_sql_query(query, con)\n",
    "    return pd.DataFrame(query_output)\n"
   ]
  },
  {
   "cell_type": "code",
   "execution_count": 68,
   "id": "3f3a9ae5",
   "metadata": {},
   "outputs": [],
   "source": [
    "# Load the data into a DataFrame\n",
    "df_country = show_query(\"SELECT * FROM Country\")\n",
    "df_league = show_query(\"SELECT * FROM League\")\n",
    "df_match = show_query(\"SELECT * FROM Match\")\n",
    "df_player = show_query(\"SELECT * FROM Player\")\n",
    "df_player_attributes = show_query(\"SELECT * FROM Player_Attributes\")\n",
    "df_team = show_query(\"SELECT * FROM Team\")\n",
    "df_team_attributes = show_query(\"SELECT * FROM Team_Attributes\")"
   ]
  },
  {
   "cell_type": "markdown",
   "id": "d4778b16",
   "metadata": {},
   "source": [
    "Maak een functie waarmee je per seizoen voor een gekozen club o.a. het volgende kunt bepalen:\n",
    "\n",
    "- Aantal wedstrijden in dat seizoen.\n",
    "- Aantal punten behaald in dat seizoen.\n",
    "- Gemiddeld aantal punten per wedstrijd.\n",
    "- Winst-, verlies- en gelijk percentage in uitwedstrijden en thuiswedstrijden."
   ]
  },
  {
   "cell_type": "code",
   "execution_count": 101,
   "id": "d0be6646",
   "metadata": {},
   "outputs": [],
   "source": [
    "def details_season(season, club_id):\n",
    "    \"\"\"Docstrings\n",
    "    \n",
    "    \"\"\"\n",
    "    df_home = df_match[(df_match['season'] == season) & (df_match['home_team_api_id'] == club_id)] \n",
    "    df_away = df_match[(df_match['season'] == season) & (df_match['away_team_api_id'] == club_id)]\n",
    "    \n",
    "    home_points = 0\n",
    "    for index, rows in df_home.iterrows():\n",
    "        if rows['home_team_goal'] > rows['away_team_goal']:\n",
    "            home_points += 3\n",
    "        elif rows['home_team_goal'] < rows['away_team_goal']:\n",
    "            home_points += 0\n",
    "        else:\n",
    "            home_points += 1\n",
    "    \n",
    "    away_points = 0\n",
    "    for index, rows in df_away.iterrows():\n",
    "        if rows['away_team_goal'] > rows['home_team_goal']:\n",
    "            away_points += 3\n",
    "        elif rows['away_team_goal'] < rows['home_team_goal']:\n",
    "            away_points += 0\n",
    "        else:\n",
    "            away_points += 1\n",
    "    \n",
    "    amount_of_games = len(df_home) + len(df_away)\n",
    "    amount_of_points = home_points + away_points\n",
    "        \n",
    "    print('Amount of games this season: ' + str(amount_of_games))\n",
    "    print('Amount of points this season: ' + str(amount_of_points))\n",
    "    \n",
    "    return details_season\n",
    "        "
   ]
  },
  {
   "cell_type": "code",
   "execution_count": 107,
   "id": "b5bdf1d8",
   "metadata": {},
   "outputs": [
    {
     "name": "stdout",
     "output_type": "stream",
     "text": [
      "Amount of games this season: 34\n",
      "Amount of points this season: 60\n"
     ]
    },
    {
     "data": {
      "text/plain": [
       "<function __main__.details_season(season, club_id)>"
      ]
     },
     "execution_count": 107,
     "metadata": {},
     "output_type": "execute_result"
    }
   ],
   "source": [
    "details_season('2008/2009', 10228)"
   ]
  }
 ],
 "metadata": {
  "kernelspec": {
   "display_name": "Python 3 (ipykernel)",
   "language": "python",
   "name": "python3"
  },
  "language_info": {
   "codemirror_mode": {
    "name": "ipython",
    "version": 3
   },
   "file_extension": ".py",
   "mimetype": "text/x-python",
   "name": "python",
   "nbconvert_exporter": "python",
   "pygments_lexer": "ipython3",
   "version": "3.9.12"
  }
 },
 "nbformat": 4,
 "nbformat_minor": 5
}
