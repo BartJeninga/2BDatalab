{
 "cells": [
  {
   "cell_type": "markdown",
   "id": "3dce20ff",
   "metadata": {},
   "source": [
    "# Datalab II <a name='jump'></a>"
   ]
  },
  {
   "cell_type": "markdown",
   "id": "dfdcff76",
   "metadata": {},
   "source": [
    "    Groepsnummer: 2B\n",
    "    Coach: Marjolijn de Jager\n",
    "    Namen groepsleden: \n",
    "        - Yara Passchier, 22080600\n",
    "        - Jesse Van Leeuwen, 22096337\n",
    "        - Alyssa Leliveld, 22111026\n",
    "        - Bart Jeninga, 22079793"
   ]
  },
  {
   "cell_type": "markdown",
   "id": "5293855a",
   "metadata": {},
   "source": [
    "# Table of contents\n",
    "\n",
    "1. [Sprint 2](#sprint2)\n",
    "    1. [Beschrijving tabellen](#beschrijftabellen)\n",
    "        1. [Bepaling gevens van onze club](#gegevensclub)\n",
    "        2. [Maken functie om gegevens te verzamelen](#functiebepaling)\n",
    "            1. [Opstellen ranglijst van een seizoen](#ranglijst)\n",
    "2. [Sprint 3](#sprint3)\n",
    "    1. [Bepaal met behulp van SQL:](#SQL)\n",
    "        1. [Toon het aantal wedstrijden dat jouw team heeft gespeeld per seizoen.](#wedstrijdenperseizoen)\n",
    "        2. [Toon het aantal wedstrijden van jouw team in het kalenderjaar 2010 per seizoen.](#wedstrijden2010)\n",
    "        3. [Toon hoeveel punten ieder team in jouw competitie gehaald heeft per seizoen.](#puntencompetitie)\n",
    "        4. [Toon op welke plaats jouw team daarmee is geëindigd in de ranglijst.](#teamranglijst)\n",
    "    2. [Bepalen invloed teameigenschappen.](#teaminfluence)\n",
    "        1. [Het mergen van het aantal punten per team en de teameigenschappen.](#dataframeteameigenschappen)\n",
    "        2. [Bepalen correlatie teameigenschappen en behaalde punten.](#correlatie)\n",
    "        3. [Visueel maken bevindingen.](#visualisatie)"
   ]
  },
  {
   "cell_type": "markdown",
   "id": "0da022ab",
   "metadata": {},
   "source": [
    "# Sprint 2 <a name=\"sprint2\"></a>"
   ]
  },
  {
   "cell_type": "code",
   "execution_count": 1,
   "id": "3806ce18",
   "metadata": {},
   "outputs": [],
   "source": [
    "import pandas as pd\n",
    "import sqlite3\n",
    "import warnings\n",
    "warnings.filterwarnings('ignore')\n",
    "con = sqlite3.connect(\"database.sqlite\")\n",
    "\n",
    "def show_query(query):\n",
    "    \"\"\"\n",
    "       Deze functie print de output van je SQL query uit.\n",
    "       Parameters:\n",
    "                  query = Je SQL query.\n",
    "                          Zorg ervoor dat deze parameter een string is.\n",
    "    \"\"\"\n",
    "    query_output = pd.read_sql_query(query, con)\n",
    "    return pd.DataFrame(query_output)\n"
   ]
  },
  {
   "cell_type": "code",
   "execution_count": 2,
   "id": "3f3a9ae5",
   "metadata": {},
   "outputs": [
    {
     "ename": "DatabaseError",
     "evalue": "Execution failed on sql 'SELECT * FROM Country': no such table: Country",
     "output_type": "error",
     "traceback": [
      "\u001b[1;31m---------------------------------------------------------------------------\u001b[0m",
      "\u001b[1;31mOperationalError\u001b[0m                          Traceback (most recent call last)",
      "File \u001b[1;32m~\\anaconda3\\lib\\site-packages\\pandas\\io\\sql.py:2020\u001b[0m, in \u001b[0;36mSQLiteDatabase.execute\u001b[1;34m(self, *args, **kwargs)\u001b[0m\n\u001b[0;32m   2019\u001b[0m \u001b[38;5;28;01mtry\u001b[39;00m:\n\u001b[1;32m-> 2020\u001b[0m     cur\u001b[38;5;241m.\u001b[39mexecute(\u001b[38;5;241m*\u001b[39margs, \u001b[38;5;241m*\u001b[39m\u001b[38;5;241m*\u001b[39mkwargs)\n\u001b[0;32m   2021\u001b[0m     \u001b[38;5;28;01mreturn\u001b[39;00m cur\n",
      "\u001b[1;31mOperationalError\u001b[0m: no such table: Country",
      "\nThe above exception was the direct cause of the following exception:\n",
      "\u001b[1;31mDatabaseError\u001b[0m                             Traceback (most recent call last)",
      "Input \u001b[1;32mIn [2]\u001b[0m, in \u001b[0;36m<cell line: 2>\u001b[1;34m()\u001b[0m\n\u001b[0;32m      1\u001b[0m \u001b[38;5;66;03m# Load the data into a DataFrame\u001b[39;00m\n\u001b[1;32m----> 2\u001b[0m df_country \u001b[38;5;241m=\u001b[39m \u001b[43mshow_query\u001b[49m\u001b[43m(\u001b[49m\u001b[38;5;124;43m\"\u001b[39;49m\u001b[38;5;124;43mSELECT * FROM Country\u001b[39;49m\u001b[38;5;124;43m\"\u001b[39;49m\u001b[43m)\u001b[49m\n\u001b[0;32m      3\u001b[0m df_league \u001b[38;5;241m=\u001b[39m show_query(\u001b[38;5;124m\"\u001b[39m\u001b[38;5;124mSELECT * FROM League\u001b[39m\u001b[38;5;124m\"\u001b[39m)\n\u001b[0;32m      4\u001b[0m df_match \u001b[38;5;241m=\u001b[39m show_query(\u001b[38;5;124m\"\u001b[39m\u001b[38;5;124mSELECT * FROM Match\u001b[39m\u001b[38;5;124m\"\u001b[39m)\n",
      "Input \u001b[1;32mIn [1]\u001b[0m, in \u001b[0;36mshow_query\u001b[1;34m(query)\u001b[0m\n\u001b[0;32m      7\u001b[0m \u001b[38;5;28;01mdef\u001b[39;00m \u001b[38;5;21mshow_query\u001b[39m(query):\n\u001b[0;32m      8\u001b[0m     \u001b[38;5;124;03m\"\"\"\u001b[39;00m\n\u001b[0;32m      9\u001b[0m \u001b[38;5;124;03m       Deze functie print de output van je SQL query uit.\u001b[39;00m\n\u001b[0;32m     10\u001b[0m \u001b[38;5;124;03m       Parameters:\u001b[39;00m\n\u001b[0;32m     11\u001b[0m \u001b[38;5;124;03m                  query = Je SQL query.\u001b[39;00m\n\u001b[0;32m     12\u001b[0m \u001b[38;5;124;03m                          Zorg ervoor dat deze parameter een string is.\u001b[39;00m\n\u001b[0;32m     13\u001b[0m \u001b[38;5;124;03m    \"\"\"\u001b[39;00m\n\u001b[1;32m---> 14\u001b[0m     query_output \u001b[38;5;241m=\u001b[39m \u001b[43mpd\u001b[49m\u001b[38;5;241;43m.\u001b[39;49m\u001b[43mread_sql_query\u001b[49m\u001b[43m(\u001b[49m\u001b[43mquery\u001b[49m\u001b[43m,\u001b[49m\u001b[43m \u001b[49m\u001b[43mcon\u001b[49m\u001b[43m)\u001b[49m\n\u001b[0;32m     15\u001b[0m     \u001b[38;5;28;01mreturn\u001b[39;00m pd\u001b[38;5;241m.\u001b[39mDataFrame(query_output)\n",
      "File \u001b[1;32m~\\anaconda3\\lib\\site-packages\\pandas\\io\\sql.py:399\u001b[0m, in \u001b[0;36mread_sql_query\u001b[1;34m(sql, con, index_col, coerce_float, params, parse_dates, chunksize, dtype)\u001b[0m\n\u001b[0;32m    341\u001b[0m \u001b[38;5;124;03m\"\"\"\u001b[39;00m\n\u001b[0;32m    342\u001b[0m \u001b[38;5;124;03mRead SQL query into a DataFrame.\u001b[39;00m\n\u001b[0;32m    343\u001b[0m \n\u001b[1;32m   (...)\u001b[0m\n\u001b[0;32m    396\u001b[0m \u001b[38;5;124;03mparameter will be converted to UTC.\u001b[39;00m\n\u001b[0;32m    397\u001b[0m \u001b[38;5;124;03m\"\"\"\u001b[39;00m\n\u001b[0;32m    398\u001b[0m pandas_sql \u001b[38;5;241m=\u001b[39m pandasSQL_builder(con)\n\u001b[1;32m--> 399\u001b[0m \u001b[38;5;28;01mreturn\u001b[39;00m \u001b[43mpandas_sql\u001b[49m\u001b[38;5;241;43m.\u001b[39;49m\u001b[43mread_query\u001b[49m\u001b[43m(\u001b[49m\n\u001b[0;32m    400\u001b[0m \u001b[43m    \u001b[49m\u001b[43msql\u001b[49m\u001b[43m,\u001b[49m\n\u001b[0;32m    401\u001b[0m \u001b[43m    \u001b[49m\u001b[43mindex_col\u001b[49m\u001b[38;5;241;43m=\u001b[39;49m\u001b[43mindex_col\u001b[49m\u001b[43m,\u001b[49m\n\u001b[0;32m    402\u001b[0m \u001b[43m    \u001b[49m\u001b[43mparams\u001b[49m\u001b[38;5;241;43m=\u001b[39;49m\u001b[43mparams\u001b[49m\u001b[43m,\u001b[49m\n\u001b[0;32m    403\u001b[0m \u001b[43m    \u001b[49m\u001b[43mcoerce_float\u001b[49m\u001b[38;5;241;43m=\u001b[39;49m\u001b[43mcoerce_float\u001b[49m\u001b[43m,\u001b[49m\n\u001b[0;32m    404\u001b[0m \u001b[43m    \u001b[49m\u001b[43mparse_dates\u001b[49m\u001b[38;5;241;43m=\u001b[39;49m\u001b[43mparse_dates\u001b[49m\u001b[43m,\u001b[49m\n\u001b[0;32m    405\u001b[0m \u001b[43m    \u001b[49m\u001b[43mchunksize\u001b[49m\u001b[38;5;241;43m=\u001b[39;49m\u001b[43mchunksize\u001b[49m\u001b[43m,\u001b[49m\n\u001b[0;32m    406\u001b[0m \u001b[43m    \u001b[49m\u001b[43mdtype\u001b[49m\u001b[38;5;241;43m=\u001b[39;49m\u001b[43mdtype\u001b[49m\u001b[43m,\u001b[49m\n\u001b[0;32m    407\u001b[0m \u001b[43m\u001b[49m\u001b[43m)\u001b[49m\n",
      "File \u001b[1;32m~\\anaconda3\\lib\\site-packages\\pandas\\io\\sql.py:2080\u001b[0m, in \u001b[0;36mSQLiteDatabase.read_query\u001b[1;34m(self, sql, index_col, coerce_float, params, parse_dates, chunksize, dtype)\u001b[0m\n\u001b[0;32m   2068\u001b[0m \u001b[38;5;28;01mdef\u001b[39;00m \u001b[38;5;21mread_query\u001b[39m(\n\u001b[0;32m   2069\u001b[0m     \u001b[38;5;28mself\u001b[39m,\n\u001b[0;32m   2070\u001b[0m     sql,\n\u001b[1;32m   (...)\u001b[0m\n\u001b[0;32m   2076\u001b[0m     dtype: DtypeArg \u001b[38;5;241m|\u001b[39m \u001b[38;5;28;01mNone\u001b[39;00m \u001b[38;5;241m=\u001b[39m \u001b[38;5;28;01mNone\u001b[39;00m,\n\u001b[0;32m   2077\u001b[0m ):\n\u001b[0;32m   2079\u001b[0m     args \u001b[38;5;241m=\u001b[39m _convert_params(sql, params)\n\u001b[1;32m-> 2080\u001b[0m     cursor \u001b[38;5;241m=\u001b[39m \u001b[38;5;28;43mself\u001b[39;49m\u001b[38;5;241;43m.\u001b[39;49m\u001b[43mexecute\u001b[49m\u001b[43m(\u001b[49m\u001b[38;5;241;43m*\u001b[39;49m\u001b[43margs\u001b[49m\u001b[43m)\u001b[49m\n\u001b[0;32m   2081\u001b[0m     columns \u001b[38;5;241m=\u001b[39m [col_desc[\u001b[38;5;241m0\u001b[39m] \u001b[38;5;28;01mfor\u001b[39;00m col_desc \u001b[38;5;129;01min\u001b[39;00m cursor\u001b[38;5;241m.\u001b[39mdescription]\n\u001b[0;32m   2083\u001b[0m     \u001b[38;5;28;01mif\u001b[39;00m chunksize \u001b[38;5;129;01mis\u001b[39;00m \u001b[38;5;129;01mnot\u001b[39;00m \u001b[38;5;28;01mNone\u001b[39;00m:\n",
      "File \u001b[1;32m~\\anaconda3\\lib\\site-packages\\pandas\\io\\sql.py:2032\u001b[0m, in \u001b[0;36mSQLiteDatabase.execute\u001b[1;34m(self, *args, **kwargs)\u001b[0m\n\u001b[0;32m   2029\u001b[0m     \u001b[38;5;28;01mraise\u001b[39;00m ex \u001b[38;5;28;01mfrom\u001b[39;00m \u001b[38;5;21;01minner_exc\u001b[39;00m\n\u001b[0;32m   2031\u001b[0m ex \u001b[38;5;241m=\u001b[39m DatabaseError(\u001b[38;5;124mf\u001b[39m\u001b[38;5;124m\"\u001b[39m\u001b[38;5;124mExecution failed on sql \u001b[39m\u001b[38;5;124m'\u001b[39m\u001b[38;5;132;01m{\u001b[39;00margs[\u001b[38;5;241m0\u001b[39m]\u001b[38;5;132;01m}\u001b[39;00m\u001b[38;5;124m'\u001b[39m\u001b[38;5;124m: \u001b[39m\u001b[38;5;132;01m{\u001b[39;00mexc\u001b[38;5;132;01m}\u001b[39;00m\u001b[38;5;124m\"\u001b[39m)\n\u001b[1;32m-> 2032\u001b[0m \u001b[38;5;28;01mraise\u001b[39;00m ex \u001b[38;5;28;01mfrom\u001b[39;00m \u001b[38;5;21;01mexc\u001b[39;00m\n",
      "\u001b[1;31mDatabaseError\u001b[0m: Execution failed on sql 'SELECT * FROM Country': no such table: Country"
     ]
    }
   ],
   "source": [
    "# Load the data into a DataFrame\n",
    "df_country = show_query(\"SELECT * FROM Country\")\n",
    "df_league = show_query(\"SELECT * FROM League\")\n",
    "df_match = show_query(\"SELECT * FROM Match\")\n",
    "df_player = show_query(\"SELECT * FROM Player\")\n",
    "df_player_attributes = show_query(\"SELECT * FROM Player_Attributes\")\n",
    "df_team = show_query(\"SELECT * FROM Team\")\n",
    "df_team_attributes = show_query(\"SELECT * FROM Team_Attributes\")"
   ]
  },
  {
   "cell_type": "markdown",
   "id": "6694e32b",
   "metadata": {},
   "source": [
    "# Beschrijving tabellen <a name=\"beschrijftabellen\"></a>\n",
    "Er zijn 7 tabellen:\n",
    "\n",
    "- country: een tabel met landen. In deze tabel staan alle landen die mee doen met de voetbalwedstrijden.\n",
    "\n",
    "- league: tabel met de leagues. Deze tabel bevat de data van welke competities er worden gespeeld.\n",
    "\n",
    "- match: tabel van verschillende wedstrijden. De tabel match bevat informatie over de wedstrijden.\n",
    "\n",
    "- player: tabel van alle spelers. In deze tabel kan alle informatie over spelers worden gevonden.\n",
    "\n",
    "- player_attributes: tabel met de eigenschappen van de spelers. De tabel player_attributes bevat informatie over de kwaliteiten en eigenschappen van de spelers.\n",
    "\n",
    "- team: tabel van de teams. In deze tabel staat alle informatie over de verschillende teams.\n",
    "\n",
    "- team_attributes: tabel met de eigenschappen van de teams. In deze tabel staat alle informatie van de verschillende teams.\n",
    "\n",
    "- team_attributes: tabel met de eigenschappen van de teams. En als laatste in deze tabel staan alle kwaliteiten en eigenschappen van de teams."
   ]
  },
  {
   "cell_type": "markdown",
   "id": "94294323",
   "metadata": {},
   "source": [
    "## 1. Bepaal de volgende gegevens van jouw club: <a name=\"gegevensclub\"></a>\n",
    "- team naam\n",
    "- team id\n",
    "- competitie id\n",
    "- competitie naam\n",
    "- De gegevens van alle wedstrijden die jouw club heeft gespeeld."
   ]
  },
  {
   "cell_type": "markdown",
   "id": "b526890a",
   "metadata": {},
   "source": [
    "De eerste stap is het achterhalen van ons team id, SC Heerenveen."
   ]
  },
  {
   "cell_type": "code",
   "execution_count": null,
   "id": "5d15153c",
   "metadata": {},
   "outputs": [],
   "source": [
    "#bepaal team naam, team id, competitie id, competitie naam van SC Heerenveen\n",
    "query = \"\"\"\n",
    "\n",
    "SELECT *\n",
    "\n",
    "    FROM team\n",
    "\n",
    "    WHERE team_long_name = 'SC Heerenveen'\n",
    "\n",
    "\"\"\"\n",
    "\n",
    "show_query(query)"
   ]
  },
  {
   "cell_type": "markdown",
   "id": "cf3c3e65",
   "metadata": {},
   "source": [
    "Dit team_api_id gebruiken wij vervolgens alle informatie per wedstrijd thuis en uit gespeeld op te halen."
   ]
  },
  {
   "cell_type": "code",
   "execution_count": null,
   "id": "89fbef86",
   "metadata": {},
   "outputs": [],
   "source": [
    "#Bepaal gegevens alle wedstrijden SC Heerenveen\n",
    "query = \"\"\"\n",
    "\n",
    "SELECT *\n",
    "\n",
    "    FROM match \n",
    "\n",
    "    WHERE home_team_api_id = 10228\n",
    "    OR away_team_api_id = 10228\n",
    "\n",
    "\"\"\"\n",
    "\n",
    "show_query(query)"
   ]
  },
  {
   "cell_type": "markdown",
   "id": "3d9d5a12",
   "metadata": {},
   "source": [
    "[Terug naar het begin](#jump)"
   ]
  },
  {
   "cell_type": "markdown",
   "id": "d4778b16",
   "metadata": {},
   "source": [
    "## 2. Maak een functie waarmee je per seizoen voor een gekozen club o.a. het volgende kunt bepalen: <a name=\"functiebepaling\"></a>\n",
    "\n",
    "- Aantal wedstrijden in dat seizoen.\n",
    "- Aantal punten behaald in dat seizoen.\n",
    "- Gemiddeld aantal punten per wedstrijd.\n",
    "- Winst-, verlies- en gelijk percentage in uitwedstrijden en thuiswedstrijden."
   ]
  },
  {
   "cell_type": "markdown",
   "id": "d505a83b",
   "metadata": {},
   "source": [
    "Hier wordt de functie gemaakt om met 3 parameters direct alle gevraagde informatie terug te krijgen. In de docstring van de functie is te lezen hoe de functie werkt, welke parameters er gebruikt worden en wat er uit de functie komt."
   ]
  },
  {
   "cell_type": "code",
   "execution_count": null,
   "id": "4591d53f",
   "metadata": {},
   "outputs": [],
   "source": [
    "def matchinfo(team_id, season, league_id):\n",
    "  \n",
    "    \"\"\"Bereken de wedstrijdresultaten van een gekozen team voor een gekozen seizoen.\n",
    "    Parameters:\n",
    "    -----------\n",
    "    team_id : int\n",
    "        Het ID-nummer van het team die je als parameter invult en de resultaten voor worden berekend.\n",
    "    season : str\n",
    "        Het seizoen die je als parameter invult waarvan de resultaten worden berekend.\n",
    "    league_id: int\n",
    "        Het ID-nummer van de competitie waarin de club speelt en op gefilterd moet worden.\n",
    "  \n",
    "    Returns:\n",
    "    -----------\n",
    "    pandas.DataFrame\n",
    "        Een Pandas DataFrame met de wedstrijdresultaten van het team en het seizoen dat je hebt opgegeven bij de parameters. dit zijn de kolommen die het dataframe bevat:\n",
    "        - totaal_games: het totale aantal van gespeelde wedstrijden in het gekozen seizoen\n",
    "        - total_points: het totale aantal gehaalde punten in het gekozen seizoen\n",
    "        - season: seizoen waar de rest van de informatie over gaat\n",
    "        - team_id: het ID-nummer van het gekozen team\n",
    "        - average_points: het gemiddelde aantal punten\n",
    "        - perc_win_home: percentage van de gewonnen thuis wedstrijden\n",
    "        - perc_draw_home: percentage van gelijk gespeelde thuis wedstrijden\n",
    "        - perc_loss_home: percentage van de verloren thuis wedstrijden\n",
    "        - perc_win_away: percentage van de gewonnen uit wedstrijden\n",
    "        - perc_draw_away: percentage van gelijk gespeelde uit wedstrijden\n",
    "        - perc_loss_away:  percentage van de verloren thuis wedstrijden\n",
    "      \n",
    "    \"\"\"\n",
    "    #finding team in home match\n",
    "    home_match_results = []\n",
    "    home_team_points = []\n",
    "    home_df = df_match[(df_match['home_team_api_id'] == team_id) & (df_match['season'] == season) & (df_match['league_id'] == league_id)]\n",
    "    for index,row in home_df.iterrows():\n",
    "        if row['home_team_goal'] > row['away_team_goal']:\n",
    "            home_match_results.append('win')\n",
    "            home_team_points.append(3)\n",
    "        elif row['home_team_goal'] == row['away_team_goal']:\n",
    "            home_match_results.append('draw')\n",
    "            home_team_points.append(1)\n",
    "        else:\n",
    "            home_match_results.append('loss')\n",
    "            home_team_points.append(0)\n",
    " \n",
    " \n",
    "    home_df['match_results'] = home_match_results\n",
    "    home_df['team_points'] = home_team_points\n",
    " \n",
    "    #finding team in away match\n",
    "    away_match_results = []\n",
    "    away_team_points = []\n",
    "    away_df = df_match[(df_match['away_team_api_id'] == team_id) & (df_match['season'] == season) & (df_match['league_id'] == league_id)]\n",
    "    for index,row in away_df.iterrows():\n",
    "        if row['away_team_goal'] > row['home_team_goal']:\n",
    "            away_match_results.append('win')\n",
    "            away_team_points.append(3)\n",
    "        elif row['away_team_goal'] == row['home_team_goal']:\n",
    "            away_match_results.append('draw')\n",
    "            away_team_points.append(1)\n",
    "        else:\n",
    "            away_match_results.append('loss')\n",
    "            away_team_points.append(0)\n",
    " \n",
    "    away_df['match_results'] = away_match_results\n",
    "    away_df['team_points'] = away_team_points\n",
    " \n",
    "    #sum of matches\n",
    "    home_points = home_df['team_points'].sum()\n",
    "    away_points = away_df['team_points'].sum()\n",
    "  \n",
    "    total_points = home_points + away_points\n",
    "    total_match = len(home_df) + len(away_df)\n",
    "    average_points = total_points / total_match\n",
    "  \n",
    "    #the percentages for home\n",
    "    total_match_home = len(home_df)\n",
    "    if total_match_home > 0:\n",
    "        perc_win_home = len(home_df[home_df['team_points'] == 3]) / total_match_home * 100\n",
    "        perc_draw_home = len(home_df[home_df['team_points'] == 1]) / total_match_home * 100\n",
    "        perc_loss_home = len(home_df[home_df['team_points'] == 0]) / total_match_home * 100\n",
    "    else:\n",
    "        perc_win_home = 0\n",
    "        perc_draw_home = 0\n",
    "        perc_loss_home = 0\n",
    "  \n",
    "    #percentages for away\n",
    "    total_match_away = len(away_df)\n",
    "    if total_match_away > 0:\n",
    "        perc_win_away = len(away_df[away_df['team_points'] == 3]) / total_match_away * 100\n",
    "        perc_draw_away = len(away_df[away_df['team_points'] == 1]) / total_match_away * 100\n",
    "        perc_loss_away = len(away_df[away_df['team_points'] == 0]) / total_match_away * 100\n",
    "    else:\n",
    "        perc_win_away = 0\n",
    "        perc_draw_away = 0\n",
    "        perc_loss_away = 0\n",
    "  \n",
    "    #creating the dataframe\n",
    "    df = pd.DataFrame()\n",
    "    df['season'] = [season]\n",
    "    df['team_id'] = team_id\n",
    "    df['league_id'] = league_id\n",
    "    df['total_games'] = total_match\n",
    "    df['total_points'] = total_points\n",
    "    df['average_points'] = average_points\n",
    "    df['perc_win_home'] = perc_win_home\n",
    "    df['perc_draw_home'] = perc_draw_home\n",
    "    df['perc_loss_home'] = perc_loss_home\n",
    "    df['perc_win_away'] = perc_win_away\n",
    "    df['perc_draw_away'] = perc_draw_away\n",
    "    df['perc_loss_away'] = perc_loss_away\n",
    "  \n",
    "    return df"
   ]
  },
  {
   "cell_type": "markdown",
   "id": "41b215b1",
   "metadata": {},
   "source": [
    "### Pas deze functie toe op een seizoen naar keuze en bepaal de ranglijst van dat seizoen. <a name=\"ranglijst\"></a>"
   ]
  },
  {
   "cell_type": "markdown",
   "id": "a2e230aa",
   "metadata": {},
   "source": [
    "Vervolgens gebruiken wij deze functie om het toe te passen in een loop voor elk team, dit geeft ons een dataframe met de informatie van alle teams en hebben deze gerankschikt."
   ]
  },
  {
   "cell_type": "code",
   "execution_count": null,
   "id": "61e84862",
   "metadata": {
    "scrolled": false
   },
   "outputs": [],
   "source": [
    "# Toepassing ranglijst op alle teams voor seizoen 2008/2009\n",
    "\n",
    "team_list = list(df_match['home_team_api_id'].unique())\n",
    "\n",
    "df_season = pd.DataFrame()\n",
    "for team in team_list:\n",
    "    team_season_results = matchinfo (team, '2008/2009', 13274)\n",
    "    df_season = pd.concat([df_season,team_season_results])\n",
    "\n",
    "ranglijst = df_season.sort_values(by = ['total_points'], ascending = False)"
   ]
  },
  {
   "cell_type": "code",
   "execution_count": null,
   "id": "1e4ff554",
   "metadata": {},
   "outputs": [],
   "source": [
    "ranglijst = ranglijst.dropna().reset_index().set_index('team_id')\n",
    "del ranglijst['index']\n",
    "display(ranglijst)"
   ]
  },
  {
   "cell_type": "markdown",
   "id": "dc70fe2c",
   "metadata": {},
   "source": [
    "[Terug naar het begin](#jump)"
   ]
  },
  {
   "cell_type": "markdown",
   "id": "e9d8b189",
   "metadata": {},
   "source": [
    "# Sprint 3 <a name=\"sprint3\"></a>"
   ]
  },
  {
   "cell_type": "markdown",
   "id": "ddbe36b7",
   "metadata": {},
   "source": [
    "## 1. Bepaal met behulp van SQL in deze sprint het volgende:  <a name=\"SQL\"></a>\n",
    "\n",
    "- Toon het aantal wedstrijden dat jouw team heeft gespeeld per seizoen.\n",
    "- Toon het aantal wedstrijden van jouw team in het kalenderjaar 2010 per seizoen.\n",
    "- Toon hoeveel punten ieder team in jouw competitie gehaald heeft per seizoen.\n",
    "- Toon op welke plaats jouw team daarmee is geëindigd in de ranglijst."
   ]
  },
  {
   "cell_type": "markdown",
   "id": "7cc9d791",
   "metadata": {},
   "source": [
    "### Toon het aantal wedstrijden dat jouw team heeft gespeeld per seizoen. <a name=\"wedstrijdenperseizoen\"></a>"
   ]
  },
  {
   "cell_type": "markdown",
   "id": "bb87b944",
   "metadata": {},
   "source": [
    "hier bekijken we hoeveel wedstrijden ons gekozen team in totaal heeft gespeeld in elk seizoen"
   ]
  },
  {
   "cell_type": "code",
   "execution_count": null,
   "id": "327b8ac1",
   "metadata": {},
   "outputs": [],
   "source": [
    "#Aantal wedstrijden HC Heerenveen per seizoen.\n",
    "def wedstrijden(team):\n",
    "    \"\"\" telt het aantal wedstrijden van het gekozen team in de parameter per seizoen\n",
    "    parameters:\n",
    "    -----------\n",
    "    team: int\n",
    "    de ID van het team waarvan het totaal aantal wedstrijden wordt geteld per seizoen\n",
    "    \n",
    "    returns:\n",
    "    -----------\n",
    "    pandas.DataFrame\n",
    "    Een pandas DataFrame waarin je het totaal aantal gespeelde wedstrijden kan zien van het gekozen team in de parameter per seizoen.\n",
    "    Dat laat de volgende kolommen zien:\n",
    "    -season: het seizoen waarvan het aantal wedstrijden wordt geteld.\n",
    "    -aantal_wedstrijden: het aantal wedstrijden gespeeld door het team dat is gekozen in de parameter per seizoen.\n",
    "    \n",
    "    \"\"\"\n",
    "    query = f\"\"\"\n",
    "    SELECT season \n",
    "         , COUNT(match_api_id) AS aantal_wedstrijden\n",
    "    FROM Match\n",
    "    WHERE home_team_api_id = {team}\n",
    "          OR away_team_api_id = {team}\n",
    "    GROUP BY season;\n",
    "    \"\"\"\n",
    "    return(show_query(query))\n",
    "\n",
    "wedstrijden(10228)"
   ]
  },
  {
   "cell_type": "markdown",
   "id": "2f7917d8",
   "metadata": {},
   "source": [
    "### Toon het aantal wedstrijden van jouw team in het kalenderjaar 2010 per seizoen. <a name=\"wedstrijden2010\"></a>"
   ]
  },
  {
   "cell_type": "markdown",
   "id": "9d8612ff",
   "metadata": {},
   "source": [
    "vervolgens bekijken we hier hoeveel wedstrijden ons team in totaal heeft gespeeld per seizoen in het jaar 2010"
   ]
  },
  {
   "cell_type": "code",
   "execution_count": null,
   "id": "94b39614",
   "metadata": {},
   "outputs": [],
   "source": [
    "#Aantal wedstrijden 2010 per seizoen HC Heerenveen\n",
    "def seizoenwedstrijd(team):\n",
    "    \"\"\" telt het aantal wedstrijden dat een bepaald team heeft gespeeld( in dit geval SC Heerenveen) in een bepaald jaar(in dit geval in het jaar 2010). \n",
    "    parameters:\n",
    "    -----------\n",
    "    team: int\n",
    "    de ID van het team waarvan het totaal aantal wedstrijden word berekend\n",
    "            \n",
    "    returns:\n",
    "    -----------\n",
    "    pandas.DataFrame\n",
    "    een pandas DataFrame waarin je het totaal aantal gespeelde wedstrijden, zowel de uit als thuiswedstrijden ziet van het team waarvan je het team_ID invoert in de parameter.\n",
    "    Dat laat de volgende kolommen zien:\n",
    "    -season: de seizoenen waarin de wedtsrijden zijn gespeeld die het jaar 2010 bevatten.\n",
    "    -aantal_wedstrijden: het totaal aantal gespeelde wedstrijden van het gegeven seizoen en team.\n",
    "       \n",
    "    \"\"\" \n",
    "    query = f\"\"\"\n",
    "    SELECT season\n",
    "         , COUNT(match_api_id) AS aantal_wedstrijden\n",
    "    FROM Match\n",
    "    WHERE (home_team_api_id = {team}\n",
    "          OR away_team_api_id = {team})\n",
    "          AND date LIKE '2010%'\n",
    "    GROUP BY season;\n",
    "    \"\"\"\n",
    "    return(show_query(query))\n",
    "\n",
    "seizoenwedstrijd(10228)"
   ]
  },
  {
   "cell_type": "markdown",
   "id": "f256fc87",
   "metadata": {},
   "source": [
    "### Toon hoeveel punten ieder team in jouw competitie gehaald heeft per seizoen. <a name=\"puntencompetitie\"></a>"
   ]
  },
  {
   "cell_type": "markdown",
   "id": "4683379f",
   "metadata": {},
   "source": [
    "hier berekenen we hoeveel punten elk team in de competitie van ons team heft behaald per seizoen dat ze hebben gespeeld"
   ]
  },
  {
   "cell_type": "code",
   "execution_count": null,
   "id": "72a5ffbf",
   "metadata": {},
   "outputs": [],
   "source": [
    "#Punten per seizoen per team\n",
    "def seizoenspunten(league_id, season):\n",
    "    \"\"\" Laat het aantal punten van het gekozen team en seizoen zien die in de parameters zijn gegeven.\n",
    "    parameters:\n",
    "    -----------\n",
    "    league_id: int\n",
    "        De ID's van de verschillende leagues waar uit gekozen kan worden\n",
    "    season: str\n",
    "        het seizoen waarvan het aantal punten van het gekozen team wordt berekend\n",
    "    \n",
    "    returns:\n",
    "    -----------\n",
    "    pandas.DataFrame\n",
    "    een pandas DataFrame die het aantal behaalde punten voor elk team voor de league en het seizoen die in de parameters worden gekozen laat zien.\n",
    "    dat laat de volgende kolommen zien:\n",
    "    team_name: de naam van het team \n",
    "    points: het aantal punten van het team in de gekozen league en seizoen\n",
    "    \n",
    "    \"\"\"\n",
    " \n",
    "    query = f\"\"\"\n",
    "        SELECT team_long_name AS team_name\n",
    "             , SUM(CASE WHEN home_team_api_id = team_api_id THEN\n",
    "                         CASE WHEN home_team_goal > away_team_goal THEN + 3\n",
    "                              WHEN home_team_goal = away_team_goal THEN + 1\n",
    "                              ELSE + 0 END\n",
    "                        WHEN away_team_api_id = team_api_id THEN\n",
    "                         CASE WHEN away_team_goal > home_team_goal THEN + 3\n",
    "                              WHEN away_team_goal = home_team_goal THEN + 1\n",
    "                              ELSE + 0 END\n",
    "                        END) AS points\n",
    "    \n",
    "    FROM Match\n",
    "    JOIN Team\n",
    "        ON home_team_api_id = team_api_id OR away_team_api_id = team_api_id\n",
    "\n",
    "    WHERE season = \"{season}\" AND league_id = \"{league_id}\"\n",
    "    GROUP BY team_name\n",
    "    ORDER BY points DESC;\n",
    "\n",
    "\n",
    "\"\"\"\n",
    "    return(show_query(query))\n",
    "seizoenspunten(13274, '2010/2011')"
   ]
  },
  {
   "cell_type": "markdown",
   "id": "00f30ede",
   "metadata": {},
   "source": [
    "### Toon op welke plaats jouw team daarmee is geëindigd in de ranglijst. <a name=\"teamranglijst\"></a>"
   ]
  },
  {
   "cell_type": "markdown",
   "id": "6da86b90",
   "metadata": {},
   "source": [
    "vervolgens hebben we met de info van de vorige vraag een ranglijst kunnen maken om in te kunnen zien op welke plek alle teams uit de competitie zijn geëindigd. "
   ]
  },
  {
   "cell_type": "code",
   "execution_count": null,
   "id": "9b55d7d3",
   "metadata": {},
   "outputs": [],
   "source": [
    "#Plaats in ranglijst HC Heerenveen\n",
    "def seizoenspunten(league_id, season):\n",
    "    \"\"\" laat zien op welke plaats teams zijn geëindigd in een bepaalde league en seizoen die zijn gegeven in de parameters.\n",
    "    parameters: \n",
    "    -----------\n",
    "    league_id: int\n",
    "        de ID van de league waarvan je de ranglijst van de teams van wil hebben.\n",
    "    season: str\n",
    "        het seizoen waarvan je de ranglijst van de teams van wil hebben.\n",
    "        \n",
    "        \n",
    "    returns:\n",
    "    -----------\n",
    "    pandas.DataFrame\n",
    "    een pandas DataFrame die de geëindigd plaats, teamnaam en bijbehorende punten laat zien.\n",
    "    dat laat de volgende kolommen zien:\n",
    "    rank: de geëindigde plaatsen van de teams van de gekozen league en seizoen.\n",
    "    team_name: de namen van de teams van de gekozen league en seizoen.\n",
    "    points: het aantal behaalde punten van de teams van de gekozen league en seizoen.\n",
    "\n",
    "    \n",
    "    \"\"\"\n",
    "    \n",
    "    \n",
    "    query = f\"\"\"\n",
    "        SELECT ROW_NUMBER() OVER(ORDER BY SUM(CASE WHEN home_team_api_id = team_api_id THEN\n",
    "                                  CASE WHEN home_team_goal > away_team_goal THEN + 3\n",
    "                                      WHEN home_team_goal = away_team_goal THEN + 1\n",
    "                                      ELSE + 0 END\n",
    "                                 WHEN away_team_api_id = team_api_id THEN\n",
    "                                  CASE WHEN away_team_goal > home_team_goal THEN + 3\n",
    "                                        WHEN away_team_goal = home_team_goal THEN + 1\n",
    "                                      ELSE + 0 END\n",
    "                                 END)  DESC) AS rank\n",
    "             , team_long_name AS team_name\n",
    "             , SUM(CASE WHEN home_team_api_id = team_api_id THEN\n",
    "                         CASE WHEN home_team_goal > away_team_goal THEN + 3\n",
    "                              WHEN home_team_goal = away_team_goal THEN + 1\n",
    "                              ELSE + 0 END\n",
    "                        WHEN away_team_api_id = team_api_id THEN\n",
    "                         CASE WHEN away_team_goal > home_team_goal THEN + 3\n",
    "                              WHEN away_team_goal = home_team_goal THEN + 1\n",
    "                              ELSE + 0 END\n",
    "                        END) AS points\n",
    "    \n",
    "    FROM Match\n",
    "    JOIN Team\n",
    "        ON home_team_api_id = team_api_id OR away_team_api_id = team_api_id\n",
    "\n",
    "    WHERE season = \"{season}\" AND league_id = \"{league_id}\"\n",
    "    GROUP BY team_name\n",
    "    ORDER BY points DESC;\n",
    "\n",
    "\n",
    "\"\"\"\n",
    "    return(show_query(query))\n",
    "seizoenspunten(13274, '2010/2011')"
   ]
  },
  {
   "cell_type": "code",
   "execution_count": null,
   "id": "d9c3cb62",
   "metadata": {},
   "outputs": [],
   "source": []
  },
  {
   "cell_type": "code",
   "execution_count": null,
   "id": "91c12816",
   "metadata": {},
   "outputs": [],
   "source": []
  },
  {
   "cell_type": "code",
   "execution_count": null,
   "id": "19f92189",
   "metadata": {},
   "outputs": [],
   "source": []
  },
  {
   "cell_type": "markdown",
   "id": "73235396",
   "metadata": {},
   "source": [
    "## 2. Bepalen invloed teameigenschappen. <a name=\"teaminfluence\"></a>"
   ]
  },
  {
   "cell_type": "code",
   "execution_count": null,
   "id": "12d779d1",
   "metadata": {},
   "outputs": [],
   "source": []
  },
  {
   "cell_type": "code",
   "execution_count": null,
   "id": "f2cfd112",
   "metadata": {},
   "outputs": [],
   "source": []
  },
  {
   "cell_type": "markdown",
   "id": "42b2aa8d",
   "metadata": {},
   "source": [
    "### Het mergen van het aantal punten per team en de teameigenschappen.  <a name=\"dataframeteameigenschappen\"></a>"
   ]
  },
  {
   "cell_type": "code",
   "execution_count": null,
   "id": "5b35c953",
   "metadata": {},
   "outputs": [],
   "source": [
    "df_punten = seizoenspunten(13274, '2008/2009')\n",
    "\n",
    "def df_merge(df):\n",
    "    \"\"\" voegt het aantal punten per gekozen team toe aan de teameigenschappen van het gekozen team.\n",
    "    parameters:\n",
    "    -----------\n",
    "    df: pandas.DataFrame\n",
    "        een dataframe met de teamnaam met hun bijbehorende punten in een gekozen seizoen\n",
    "        \n",
    "    returns:\n",
    "    -----------\n",
    "    pandas.DataFrame\n",
    "    een dataframe die gemerged die team_api_id,team_name,points bevat met hun bijbehoordende team attributen bevat.\n",
    "    dat laat de volgende kolommen zien:\n",
    "    - team_api_id: de ID van het team.\n",
    "    - team_name: de naam van het team.\n",
    "    - points: het totaal aantal punten van het gekozen team in een gekozen seizoen.\n",
    "    - team attributes: de attributen van de teams.\n",
    "    \n",
    "    \"\"\"\n",
    "    #merging on the team\n",
    "    df_merged_t = df.merge(df_team, left_on='team_name', right_on='team_long_name')\n",
    "    \n",
    "    #groupby on the columns we need  \n",
    "    df_sort = df_merged_t[[\"team_api_id\",\"team_name\", \"points\"]]\n",
    "\n",
    "    #merging on tean attributes\n",
    "    df_season_points = df_sort.merge(df_team_attributes, left_on='team_api_id', right_on='team_api_id')\n",
    "    \n",
    "    df_season_points[\"date\"] = pd.to_datetime(df_season_points.date)\n",
    "    df2 = df_season_points[df_season_points[\"date\"].isin(pd.date_range(\"2010-08-01\", \"2011-06-01\"))]\n",
    "    \n",
    "    return df2"
   ]
  },
  {
   "cell_type": "code",
   "execution_count": null,
   "id": "40259ab2",
   "metadata": {},
   "outputs": [],
   "source": [
    "total_df = df_merge(df_punten)\n",
    "total_df"
   ]
  },
  {
   "cell_type": "markdown",
   "id": "d212ac00",
   "metadata": {},
   "source": [
    "### Bepalen correlatie teameigenschappen en behaalde punten.  <a name=\"correlatie\"></a>"
   ]
  },
  {
   "cell_type": "code",
   "execution_count": null,
   "id": "eea2190d",
   "metadata": {},
   "outputs": [],
   "source": [
    "import matplotlib.pyplot as plt\n",
    "import seaborn as sns\n",
    "\n",
    "for team in total_df['team_name'].unique():\n",
    "\n",
    "    df_corr = total_df.corr() \n",
    "    points_corr = df_corr[\"points\"] \n",
    "    df_points_corr = pd.DataFrame(points_corr, columns=['points']) \n",
    "    df_heatmap = df_points_corr.drop(index='points')\n",
    "\n",
    "    pd.set_option(\"expand_frame_repr\", False)\n",
    "    df_heatmap.dropna(inplace=True)\n",
    "    plt.figure(figsize=(5,5))\n",
    "\n",
    "    s = sns.heatmap(df_heatmap.sort_values(by=['points'], ascending=False), cmap='RdYlGn') \n",
    "    plt.title(f\"Correlaties op het totaal aantal punten van {team}\") \n",
    "    plt.show() "
   ]
  },
  {
   "cell_type": "code",
   "execution_count": null,
   "id": "173ab82d",
   "metadata": {},
   "outputs": [],
   "source": [
    "sns.regplot(data=total_df, x=\"points\", y=\"defencePressure\")\n",
    "plt.title(\"Scatterplot van punten tegenover defencePressure\") \n",
    "plt.show"
   ]
  },
  {
   "cell_type": "code",
   "execution_count": null,
   "id": "1544ebbd",
   "metadata": {},
   "outputs": [],
   "source": [
    "sns.regplot(data=total_df, x=\"points\", y=\"buildUpPlayPassing\")\n",
    "plt.title(\"Scatterplot van punten tegenover buildUpPlayPassing\") \n",
    "plt.show"
   ]
  },
  {
   "cell_type": "markdown",
   "id": "4539c2aa",
   "metadata": {},
   "source": [
    "### Visueel maken bevindingen.   <a name=\"visualisatie\"></a>"
   ]
  },
  {
   "cell_type": "code",
   "execution_count": null,
   "id": "4612eb0e",
   "metadata": {},
   "outputs": [],
   "source": []
  },
  {
   "cell_type": "markdown",
   "id": "4b8c4b40",
   "metadata": {},
   "source": [
    "[Terug naar het begin](#jump)"
   ]
  }
 ],
 "metadata": {
  "kernelspec": {
   "display_name": "Python 3 (ipykernel)",
   "language": "python",
   "name": "python3"
  },
  "language_info": {
   "codemirror_mode": {
    "name": "ipython",
    "version": 3
   },
   "file_extension": ".py",
   "mimetype": "text/x-python",
   "name": "python",
   "nbconvert_exporter": "python",
   "pygments_lexer": "ipython3",
   "version": "3.9.12"
  }
 },
 "nbformat": 4,
 "nbformat_minor": 5
}
