{
 "cells": [
  {
   "cell_type": "code",
   "execution_count": null,
   "id": "72d5b423",
   "metadata": {},
   "outputs": [],
   "source": [
    "df_juist_seizoen = df_match_fixed[df_match_fixed['season'] == '2008/2009']\n",
    "sns.barplot(x='team', y='overall_rating', data=df_match_fixed)\n",
    "plt.xlabel('Team')\n",
    "plt.ylabel('Gemiddelde overall rating')\n",
    "plt.title('Gemiddelde overall rating per team voor seizoen 2008/2009')"
   ]
  }
 ],
 "metadata": {
  "kernelspec": {
   "display_name": "Python 3 (ipykernel)",
   "language": "python",
   "name": "python3"
  },
  "language_info": {
   "codemirror_mode": {
    "name": "ipython",
    "version": 3
   },
   "file_extension": ".py",
   "mimetype": "text/x-python",
   "name": "python",
   "nbconvert_exporter": "python",
   "pygments_lexer": "ipython3",
   "version": "3.9.12"
  }
 },
 "nbformat": 4,
 "nbformat_minor": 5
}
