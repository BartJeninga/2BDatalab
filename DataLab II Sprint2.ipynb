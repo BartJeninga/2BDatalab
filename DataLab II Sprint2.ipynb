{
 "cells": [
  {
   "cell_type": "code",
   "execution_count": 33,
   "id": "f124013f",
   "metadata": {},
   "outputs": [],
   "source": [
    "import pandas as pd\n",
    "import sqlite3\n",
    "con = sqlite3.connect(\"database.sqlite\")\n",
    "\n",
    "def show_query(query):\n",
    "    \"\"\"\n",
    "       Deze functie print de output van je SQL query uit.\n",
    "       Parameters:\n",
    "                  query = Je SQL query.\n",
    "                          Zorg ervoor dat deze parameter een string is.\n",
    "    \"\"\"\n",
    "    query_output = pd.read_sql_query(query, con)\n",
    "    return pd.DataFrame(query_output)"
   ]
  },
  {
   "cell_type": "markdown",
   "id": "9fcac287",
   "metadata": {},
   "source": [
    "## Beschrijving tabellen\n",
    "Er zijn 7 tabellen:\n",
    "- country: een tabel met landen\n",
    "- league: tabel met de leagues\n",
    "- match: tabel van verschillende wedstrijden\n",
    "- player: tabel van alle spelers\n",
    "- player_attributes: tabel met de eigenschappen van de spelers\n",
    "- team: tabel van de teams\n",
    "- team_attributes: tabel met de eigenschappen van de teams"
   ]
  },
  {
   "cell_type": "markdown",
   "id": "738794af",
   "metadata": {},
   "source": [
    "## Beschrijving data in de tabellen\n",
    " \n",
    "### country:\n",
    " - id: id van land\n",
    " - name: naam van land\n",
    "\n",
    "### league:\n",
    " - id: id van de league\n",
    " - country_id: id van het land\n",
    " - name: naam van de league\n",
    "\n",
    "### match:\n",
    " - id:\n",
    " - country_id:\n",
    " - league_id:\n",
    " - season:\n",
    " - stage:\n",
    " - date:\n",
    " - match_api_id:\n",
    " - home_team_api_id:\n",
    " - away_team_api_id:\n",
    " - home_team_goal:\n",
    " - away_team_goal:\n",
    " - home_player_X1 t/m home_player_X11:\n",
    " - away_player_X1 t/m away_player_X11:\n",
    " - home_player_Y1 t/m home_player_Y11:\n",
    " - away_player_Y1 t/m away_player_Y11:\n",
    " - home_player_1 t/m home_player_11:\n",
    " - away_player_1 t/m away_player_11:\n",
    " - goal:\n",
    " - shoton:\n",
    " - shotoff:\n",
    " - foulcommit:\n",
    " - card:\n",
    " - cross:\n",
    " - possesion:\n",
    " - "
   ]
  },
  {
   "cell_type": "code",
   "execution_count": null,
   "id": "23588b49",
   "metadata": {},
   "outputs": [],
   "source": []
  }
 ],
 "metadata": {
  "kernelspec": {
   "display_name": "Python 3 (ipykernel)",
   "language": "python",
   "name": "python3"
  },
  "language_info": {
   "codemirror_mode": {
    "name": "ipython",
    "version": 3
   },
   "file_extension": ".py",
   "mimetype": "text/x-python",
   "name": "python",
   "nbconvert_exporter": "python",
   "pygments_lexer": "ipython3",
   "version": "3.9.12"
  }
 },
 "nbformat": 4,
 "nbformat_minor": 5
}
