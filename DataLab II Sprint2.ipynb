{
 "cells": [
  {
   "cell_type": "code",
   "execution_count": 33,
   "id": "f124013f",
   "metadata": {},
   "outputs": [],
   "source": [
    "import pandas as pd\n",
    "import sqlite3\n",
    "con = sqlite3.connect(\"database.sqlite\")\n",
    "\n",
    "def show_query(query):\n",
    "    \"\"\"\n",
    "       Deze functie print de output van je SQL query uit.\n",
    "       Parameters:\n",
    "                  query = Je SQL query.\n",
    "                          Zorg ervoor dat deze parameter een string is.\n",
    "    \"\"\"\n",
    "    query_output = pd.read_sql_query(query, con)\n",
    "    return pd.DataFrame(query_output)"
   ]
  },
  {
   "cell_type": "markdown",
   "id": "9fcac287",
   "metadata": {},
   "source": [
    "## Beschrijving tabellen\n",
    "Er zijn 7 tabellen:\n",
    "- country: een tabel met landen\n",
    "- league: tabel met de leagues\n",
    "- match: tabel van verschillende wedstrijden\n",
    "- player: tabel van alle spelers\n",
    "- player_attributes: tabel met de eigenschappen van de spelers\n",
    "- team: tabel van de teams\n",
    "- team_attributes: tabel met de eigenschappen van de teams"
   ]
  },
  {
   "cell_type": "code",
   "execution_count": null,
   "id": "1f3e47af",
   "metadata": {},
   "outputs": [],
   "source": [
    "# Load the data into a DataFrame\n",
    "df_country = show_query(\"SELECT * FROM Country\")\n",
    "df_league = show_query(\"SELECT * FROM League\")\n",
    "df_match = show_query(\"SELECT * FROM Match\")\n",
    "df_player = show_query(\"SELECT * FROM Player\")\n",
    "df_player_attributes = show_query(\"SELECT * FROM Player_Attributes\")\n",
    "df_team = show_query(\"SELECT * FROM Team\")\n",
    "df_team_attributes = show_query(\"SELECT * FROM Team_Attributes\")"
   ]
  },
  {
   "cell_type": "code",
   "execution_count": null,
   "id": "23588b49",
   "metadata": {},
   "outputs": [],
   "source": [
    "def details_season(season, club_id):\n",
    "    \"\"\"Docstrings\n",
    "    \n",
    "    \"\"\"\n",
    "    df_home = df_match[(df_match['season'] == season) & (df_match['home_team_api_id'] == club_id)] \n",
    "    df_away = df_match[(df_match['season'] == season) & (df_match['away_team_api_id'] == club_id)]\n",
    "    \n",
    "    home_points = 0\n",
    "    for index, rows in df_home.iterrows():\n",
    "        if rows['home_team_goal'] > rows['away_team_goal']:\n",
    "            home_points += 3\n",
    "        elif rows['home_team_goal'] < rows['away_team_goal']:\n",
    "            home_points += 0\n",
    "        else:\n",
    "            home_points += 1\n",
    "    \n",
    "    away_points = 0\n",
    "    for index, rows in df_away.iterrows():\n",
    "        if rows['away_team_goal'] > rows['home_team_goal']:\n",
    "            away_points += 3\n",
    "        elif rows['away_team_goal'] < rows['home_team_goal']:\n",
    "            away_points += 0\n",
    "        else:\n",
    "            away_points += 1\n",
    "    \n",
    "    amount_of_games = len(df_home) + len(df_away)\n",
    "    amount_of_points = home_points + away_points\n",
    "        \n",
    "    print('Amount of games this season: ' + str(amount_of_games))\n",
    "    print('Amount of points this season: ' + str(amount_of_points))\n",
    "    \n",
    "    return details_season"
   ]
  }
 ],
 "metadata": {
  "kernelspec": {
   "display_name": "Python 3 (ipykernel)",
   "language": "python",
   "name": "python3"
  },
  "language_info": {
   "codemirror_mode": {
    "name": "ipython",
    "version": 3
   },
   "file_extension": ".py",
   "mimetype": "text/x-python",
   "name": "python",
   "nbconvert_exporter": "python",
   "pygments_lexer": "ipython3",
   "version": "3.9.12"
  }
 },
 "nbformat": 4,
 "nbformat_minor": 5
}
