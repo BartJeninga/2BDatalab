{
 "cells": [
  {
   "cell_type": "markdown",
   "id": "3dce20ff",
   "metadata": {},
   "source": [
    "# Datalab II <a name='jump'></a>"
   ]
  },
  {
   "cell_type": "markdown",
   "id": "dfdcff76",
   "metadata": {},
   "source": [
    "    Groepsnummer: 2B\n",
    "    Coach: Marjolijn de Jager\n",
    "    Namen groepsleden: \n",
    "        - Yara Passchier, 22080600\n",
    "        - Jesse Van Leeuwen, 22096337\n",
    "        - Alyssa Leliveld, 22111026\n",
    "        - Bart Jeninga, 22079793\n",
    "        - Nieyam Kanhai 22108920"
   ]
  },
  {
   "cell_type": "markdown",
   "id": "5293855a",
   "metadata": {},
   "source": [
    "# Table of contents\n",
    "\n",
    "1. [Sprint 2](#sprint2)\n",
    "    1. [Beschrijving tabellen](#beschrijftabellen)\n",
    "        1. [Bepaling gevens van onze club](#gegevensclub)\n",
    "        2. [Maken functie om gegevens te verzamelen](#functiebepaling)\n",
    "            1. [Opstellen ranglijst van een seizoen](#ranglijst)\n",
    "2. [Sprint 3](#sprint3)\n",
    "    1. [Bepaal met behulp van SQL:](#SQL)\n",
    "        1. [Toon het aantal wedstrijden dat jouw team heeft gespeeld per seizoen.](#wedstrijdenperseizoen)\n",
    "        2. [Toon het aantal wedstrijden van jouw team in het kalenderjaar 2010 per seizoen.](#wedstrijden2010)\n",
    "        3. [Toon hoeveel punten ieder team in jouw competitie gehaald heeft per seizoen.](#puntencompetitie)\n",
    "        4. [Toon op welke plaats jouw team daarmee is geëindigd in de ranglijst.](#teamranglijst)\n",
    "    2. [Bepalen invloed teameigenschappen.](#teaminfluence)\n",
    "        1. [Het mergen van het aantal punten per team en de teameigenschappen.](#dataframeteameigenschappen)\n",
    "        2. [Bepalen correlatie teameigenschappen en behaalde punten.](#correlatie)\n",
    "        3. [Visueel maken bevindingen.](#visualisatie)\n",
    "3. [Sprint 4](#sprint4)\n",
    "    1. [Numerieke gemiddelde spelers.](#gemiddeldspeler)\n",
    "    2. [Toevoegen overall rating in dataframe match.](#overallrating)\n",
    "    3. [Visualisatie overall rating speler van een seizoen.](#visueeloverallseizoen)\n",
    "    4. [Visualisatie punten per wedstrijd per team.](#visueelpuntenwedstrijd)\n",
    "    5. [Visualisatie vergelijking overall rating & punten per team.](#overallratingpuntenteam)\n",
    "    6. [Toepassen functie op andere rating.](#definitieandererating)"
   ]
  },
  {
   "cell_type": "markdown",
   "id": "f94b3f51",
   "metadata": {},
   "source": [
    "test"
   ]
  },
  {
   "cell_type": "code",
   "execution_count": null,
   "id": "5500ff06",
   "metadata": {},
   "outputs": [],
   "source": [
    "import pandas as pd"
   ]
  },
  {
   "cell_type": "code",
   "execution_count": null,
   "id": "052997e2",
   "metadata": {},
   "outputs": [],
   "source": [
    "data = pd.read_csv('C:/Users/Administrator/Downloads/tr15_nan.csv')\n"
   ]
  },
  {
   "cell_type": "code",
   "execution_count": null,
   "id": "946ae61f",
   "metadata": {},
   "outputs": [],
   "source": [
    "data.head()"
   ]
  },
  {
   "cell_type": "markdown",
   "id": "0da022ab",
   "metadata": {},
   "source": [
    "# Sprint 2 <a name=\"sprint2\"></a>"
   ]
  },
  {
   "cell_type": "code",
   "execution_count": null,
   "id": "3806ce18",
   "metadata": {},
   "outputs": [],
   "source": [
    "import matplotlib.pyplot as plt\n",
    "import seaborn as sns\n",
    "import pandas as pd\n",
    "import numpy as np\n",
    "import sqlite3\n",
    "import warnings\n",
    "warnings.filterwarnings('ignore')\n",
    "con = sqlite3.connect(\"database.sqlite\")\n",
    "pd.set_option('display.max_columns', 200)\n",
    "pd.set_option('display.max_rows', 200)\n",
    "\n",
    "def show_query(query):\n",
    "    \"\"\"\n",
    "       Deze functie print de output van je SQL query uit.\n",
    "       Parameters:\n",
    "                  query = Je SQL query.\n",
    "                          Zorg ervoor dat deze parameter een string is.\n",
    "    \"\"\"\n",
    "    query_output = pd.read_sql_query(query, con)\n",
    "    return pd.DataFrame(query_output)\n"
   ]
  },
  {
   "cell_type": "code",
   "execution_count": null,
   "id": "3f3a9ae5",
   "metadata": {},
   "outputs": [],
   "source": [
    "# Load the data into a DataFrame\n",
    "df_country = show_query(\"SELECT * FROM Country\")\n",
    "df_league = show_query(\"SELECT * FROM League\")\n",
    "df_match = show_query(\"SELECT * FROM Match\")\n",
    "df_player = show_query(\"SELECT * FROM Player\")\n",
    "df_player_attributes = show_query(\"SELECT * FROM Player_Attributes\")\n",
    "df_team = show_query(\"SELECT * FROM Team\")\n",
    "df_team_attributes = show_query(\"SELECT * FROM Team_Attributes\")"
   ]
  },
  {
   "cell_type": "markdown",
   "id": "6694e32b",
   "metadata": {},
   "source": [
    "# Beschrijving tabellen <a name=\"beschrijftabellen\"></a>\n",
    "Er zijn 7 tabellen:\n",
    "\n",
    "- country: een tabel met landen. In deze tabel staan alle landen die mee doen met de voetbalwedstrijden.\n",
    "\n",
    "- league: tabel met de leagues. Deze tabel bevat de data van welke competities er worden gespeeld.\n",
    "\n",
    "- match: tabel van verschillende wedstrijden. De tabel match bevat informatie over de wedstrijden.\n",
    "\n",
    "- player: tabel van alle spelers. In deze tabel kan alle informatie over spelers worden gevonden.\n",
    "\n",
    "- player_attributes: tabel met de eigenschappen van de spelers. De tabel player_attributes bevat informatie over de kwaliteiten en eigenschappen van de spelers.\n",
    "\n",
    "- team: tabel van de teams. In deze tabel staat alle informatie over de verschillende teams.\n",
    "\n",
    "- team_attributes: tabel met de eigenschappen van de teams. In deze tabel staat alle informatie van de verschillende teams.\n",
    "\n",
    "- team_attributes: tabel met de eigenschappen van de teams. En als laatste in deze tabel staan alle kwaliteiten en eigenschappen van de teams."
   ]
  },
  {
   "cell_type": "markdown",
   "id": "94294323",
   "metadata": {},
   "source": [
    "## 1. Bepaal de volgende gegevens van jouw club: <a name=\"gegevensclub\"></a>\n",
    "- team naam\n",
    "- team id\n",
    "- competitie id\n",
    "- competitie naam\n",
    "- De gegevens van alle wedstrijden die jouw club heeft gespeeld."
   ]
  },
  {
   "cell_type": "markdown",
   "id": "b526890a",
   "metadata": {},
   "source": [
    "De eerste stap is het achterhalen van ons team id, SC Heerenveen."
   ]
  },
  {
   "cell_type": "code",
   "execution_count": null,
   "id": "5d15153c",
   "metadata": {},
   "outputs": [],
   "source": [
    "#bepaal team naam, team id, competitie id, competitie naam van SC Heerenveen\n",
    "query = \"\"\"\n",
    "\n",
    "SELECT *\n",
    "\n",
    "    FROM team\n",
    "\n",
    "    WHERE team_long_name = 'SC Heerenveen'\n",
    "\n",
    "\"\"\"\n",
    "\n",
    "show_query(query)"
   ]
  },
  {
   "cell_type": "markdown",
   "id": "cf3c3e65",
   "metadata": {},
   "source": [
    "Dit team_api_id gebruiken wij vervolgens alle informatie per wedstrijd thuis en uit gespeeld op te halen."
   ]
  },
  {
   "cell_type": "code",
   "execution_count": null,
   "id": "89fbef86",
   "metadata": {},
   "outputs": [],
   "source": [
    "#Bepaal gegevens alle wedstrijden SC Heerenveen\n",
    "query = \"\"\"\n",
    "\n",
    "SELECT *\n",
    "\n",
    "    FROM match \n",
    "\n",
    "    WHERE home_team_api_id = 10228\n",
    "    OR away_team_api_id = 10228\n",
    "\n",
    "\"\"\"\n",
    "\n",
    "show_query(query)"
   ]
  },
  {
   "cell_type": "markdown",
   "id": "3d9d5a12",
   "metadata": {},
   "source": [
    "[Terug naar het begin](#jump)"
   ]
  },
  {
   "cell_type": "markdown",
   "id": "d4778b16",
   "metadata": {},
   "source": [
    "## 2. Maak een functie waarmee je per seizoen voor een gekozen club o.a. het volgende kunt bepalen: <a name=\"functiebepaling\"></a>\n",
    "\n",
    "- Aantal wedstrijden in dat seizoen.\n",
    "- Aantal punten behaald in dat seizoen.\n",
    "- Gemiddeld aantal punten per wedstrijd.\n",
    "- Winst-, verlies- en gelijk percentage in uitwedstrijden en thuiswedstrijden."
   ]
  },
  {
   "cell_type": "markdown",
   "id": "d505a83b",
   "metadata": {},
   "source": [
    "Hier wordt de functie gemaakt om met 3 parameters direct alle gevraagde informatie terug te krijgen. In de docstring van de functie is te lezen hoe de functie werkt, welke parameters er gebruikt worden en wat er uit de functie komt."
   ]
  },
  {
   "cell_type": "code",
   "execution_count": null,
   "id": "4591d53f",
   "metadata": {},
   "outputs": [],
   "source": [
    "def matchinfo(team_id, season, league_id):\n",
    "  \n",
    "    \"\"\"Bereken de wedstrijdresultaten van een gekozen team voor een gekozen seizoen.\n",
    "    Parameters:\n",
    "    -----------\n",
    "    team_id : int\n",
    "        Het ID-nummer van het team die je als parameter invult en de resultaten voor worden berekend.\n",
    "    season : str\n",
    "        Het seizoen die je als parameter invult waarvan de resultaten worden berekend.\n",
    "    league_id: int\n",
    "        Het ID-nummer van de competitie waarin de club speelt en op gefilterd moet worden.\n",
    "  \n",
    "    Returns:\n",
    "    -----------\n",
    "    pandas.DataFrame\n",
    "        Een Pandas DataFrame met de wedstrijdresultaten van het team en het seizoen dat je hebt opgegeven bij de parameters. dit zijn de kolommen die het dataframe bevat:\n",
    "        - totaal_games: het totale aantal van gespeelde wedstrijden in het gekozen seizoen\n",
    "        - total_points: het totale aantal gehaalde punten in het gekozen seizoen\n",
    "        - season: seizoen waar de rest van de informatie over gaat\n",
    "        - team_id: het ID-nummer van het gekozen team\n",
    "        - average_points: het gemiddelde aantal punten\n",
    "        - perc_win_home: percentage van de gewonnen thuis wedstrijden\n",
    "        - perc_draw_home: percentage van gelijk gespeelde thuis wedstrijden\n",
    "        - perc_loss_home: percentage van de verloren thuis wedstrijden\n",
    "        - perc_win_away: percentage van de gewonnen uit wedstrijden\n",
    "        - perc_draw_away: percentage van gelijk gespeelde uit wedstrijden\n",
    "        - perc_loss_away:  percentage van de verloren thuis wedstrijden\n",
    "      \n",
    "    \"\"\"\n",
    "    #finding team in home match\n",
    "    home_match_results = []\n",
    "    home_team_points = []\n",
    "    home_df = df_match[(df_match['home_team_api_id'] == team_id) & (df_match['season'] == season) & (df_match['league_id'] == league_id)]\n",
    "    for index,row in home_df.iterrows():\n",
    "        if row['home_team_goal'] > row['away_team_goal']:\n",
    "            home_match_results.append('win')\n",
    "            home_team_points.append(3)\n",
    "        elif row['home_team_goal'] == row['away_team_goal']:\n",
    "            home_match_results.append('draw')\n",
    "            home_team_points.append(1)\n",
    "        else:\n",
    "            home_match_results.append('loss')\n",
    "            home_team_points.append(0)\n",
    " \n",
    " \n",
    "    home_df['match_results'] = home_match_results\n",
    "    home_df['team_points'] = home_team_points\n",
    " \n",
    "    #finding team in away match\n",
    "    away_match_results = []\n",
    "    away_team_points = []\n",
    "    away_df = df_match[(df_match['away_team_api_id'] == team_id) & (df_match['season'] == season) & (df_match['league_id'] == league_id)]\n",
    "    for index,row in away_df.iterrows():\n",
    "        if row['away_team_goal'] > row['home_team_goal']:\n",
    "            away_match_results.append('win')\n",
    "            away_team_points.append(3)\n",
    "        elif row['away_team_goal'] == row['home_team_goal']:\n",
    "            away_match_results.append('draw')\n",
    "            away_team_points.append(1)\n",
    "        else:\n",
    "            away_match_results.append('loss')\n",
    "            away_team_points.append(0)\n",
    " \n",
    "    away_df['match_results'] = away_match_results\n",
    "    away_df['team_points'] = away_team_points\n",
    " \n",
    "    #sum of matches\n",
    "    home_points = home_df['team_points'].sum()\n",
    "    away_points = away_df['team_points'].sum()\n",
    "  \n",
    "    total_points = home_points + away_points\n",
    "    total_match = len(home_df) + len(away_df)\n",
    "    average_points = total_points / total_match\n",
    "  \n",
    "    #the percentages for home\n",
    "    total_match_home = len(home_df)\n",
    "    if total_match_home > 0:\n",
    "        perc_win_home = len(home_df[home_df['team_points'] == 3]) / total_match_home * 100\n",
    "        perc_draw_home = len(home_df[home_df['team_points'] == 1]) / total_match_home * 100\n",
    "        perc_loss_home = len(home_df[home_df['team_points'] == 0]) / total_match_home * 100\n",
    "    else:\n",
    "        perc_win_home = 0\n",
    "        perc_draw_home = 0\n",
    "        perc_loss_home = 0\n",
    "  \n",
    "    #percentages for away\n",
    "    total_match_away = len(away_df)\n",
    "    if total_match_away > 0:\n",
    "        perc_win_away = len(away_df[away_df['team_points'] == 3]) / total_match_away * 100\n",
    "        perc_draw_away = len(away_df[away_df['team_points'] == 1]) / total_match_away * 100\n",
    "        perc_loss_away = len(away_df[away_df['team_points'] == 0]) / total_match_away * 100\n",
    "    else:\n",
    "        perc_win_away = 0\n",
    "        perc_draw_away = 0\n",
    "        perc_loss_away = 0\n",
    "  \n",
    "    #creating the dataframe\n",
    "    df = pd.DataFrame()\n",
    "    df['season'] = [season]\n",
    "    df['team_id'] = team_id\n",
    "    df['league_id'] = league_id\n",
    "    df['total_games'] = total_match\n",
    "    df['total_points'] = total_points\n",
    "    df['average_points'] = average_points\n",
    "    df['perc_win_home'] = perc_win_home\n",
    "    df['perc_draw_home'] = perc_draw_home\n",
    "    df['perc_loss_home'] = perc_loss_home\n",
    "    df['perc_win_away'] = perc_win_away\n",
    "    df['perc_draw_away'] = perc_draw_away\n",
    "    df['perc_loss_away'] = perc_loss_away\n",
    "  \n",
    "    return df"
   ]
  },
  {
   "cell_type": "markdown",
   "id": "41b215b1",
   "metadata": {},
   "source": [
    "### Pas deze functie toe op een seizoen naar keuze en bepaal de ranglijst van dat seizoen. <a name=\"ranglijst\"></a>"
   ]
  },
  {
   "cell_type": "markdown",
   "id": "a2e230aa",
   "metadata": {},
   "source": [
    "Vervolgens gebruiken wij deze functie om het toe te passen in een loop voor elk team, dit geeft ons een dataframe met de informatie van alle teams en hebben deze gerankschikt."
   ]
  },
  {
   "cell_type": "code",
   "execution_count": null,
   "id": "61e84862",
   "metadata": {
    "scrolled": false
   },
   "outputs": [],
   "source": [
    "# Toepassing ranglijst op alle teams voor seizoen 2008/2009\n",
    "\n",
    "team_list = list(df_match['home_team_api_id'].unique())\n",
    "\n",
    "df_season = pd.DataFrame()\n",
    "for team in team_list:\n",
    "    team_season_results = matchinfo (team, '2008/2009', 13274)\n",
    "    df_season = pd.concat([df_season,team_season_results])\n",
    "\n",
    "ranglijst = df_season.sort_values(by = ['total_points'], ascending = False)"
   ]
  },
  {
   "cell_type": "code",
   "execution_count": null,
   "id": "1e4ff554",
   "metadata": {},
   "outputs": [],
   "source": [
    "ranglijst = ranglijst.dropna().reset_index().set_index('team_id')\n",
    "del ranglijst['index']\n",
    "display(ranglijst)"
   ]
  },
  {
   "cell_type": "markdown",
   "id": "dc70fe2c",
   "metadata": {},
   "source": [
    "[Terug naar het begin](#jump)"
   ]
  },
  {
   "cell_type": "markdown",
   "id": "e9d8b189",
   "metadata": {},
   "source": [
    "# Sprint 3 <a name=\"sprint3\"></a>"
   ]
  },
  {
   "cell_type": "markdown",
   "id": "ddbe36b7",
   "metadata": {},
   "source": [
    "## 1. Bepaal met behulp van SQL in deze sprint het volgende:  <a name=\"SQL\"></a>\n",
    "\n",
    "- Toon het aantal wedstrijden dat jouw team heeft gespeeld per seizoen.\n",
    "- Toon het aantal wedstrijden van jouw team in het kalenderjaar 2010 per seizoen.\n",
    "- Toon hoeveel punten ieder team in jouw competitie gehaald heeft per seizoen.\n",
    "- Toon op welke plaats jouw team daarmee is geëindigd in de ranglijst."
   ]
  },
  {
   "cell_type": "markdown",
   "id": "7cc9d791",
   "metadata": {},
   "source": [
    "### Toon het aantal wedstrijden dat jouw team heeft gespeeld per seizoen. <a name=\"wedstrijdenperseizoen\"></a>"
   ]
  },
  {
   "cell_type": "markdown",
   "id": "bb87b944",
   "metadata": {},
   "source": [
    "hier bekijken we hoeveel wedstrijden ons gekozen team in totaal heeft gespeeld in elk seizoen"
   ]
  },
  {
   "cell_type": "code",
   "execution_count": null,
   "id": "327b8ac1",
   "metadata": {},
   "outputs": [],
   "source": [
    "#Aantal wedstrijden HC Heerenveen per seizoen.\n",
    "def wedstrijden(team):\n",
    "    \"\"\" telt het aantal wedstrijden van het gekozen team in de parameter per seizoen\n",
    "    parameters:\n",
    "    -----------\n",
    "    team: int\n",
    "    de ID van het team waarvan het totaal aantal wedstrijden wordt geteld per seizoen\n",
    "    \n",
    "    returns:\n",
    "    -----------\n",
    "    pandas.DataFrame\n",
    "    Een pandas DataFrame waarin je het totaal aantal gespeelde wedstrijden kan zien van het gekozen team in de parameter per seizoen.\n",
    "    Dat laat de volgende kolommen zien:\n",
    "    -season: het seizoen waarvan het aantal wedstrijden wordt geteld.\n",
    "    -aantal_wedstrijden: het aantal wedstrijden gespeeld door het team dat is gekozen in de parameter per seizoen.\n",
    "    \n",
    "    \"\"\"\n",
    "    query = f\"\"\"\n",
    "    SELECT season \n",
    "         , COUNT(match_api_id) AS aantal_wedstrijden\n",
    "    FROM Match\n",
    "    WHERE home_team_api_id = {team}\n",
    "          OR away_team_api_id = {team}\n",
    "    GROUP BY season;\n",
    "    \"\"\"\n",
    "    return(show_query(query))\n",
    "\n",
    "wedstrijden(10228)"
   ]
  },
  {
   "cell_type": "markdown",
   "id": "2f7917d8",
   "metadata": {},
   "source": [
    "### Toon het aantal wedstrijden van jouw team in het kalenderjaar 2010 per seizoen. <a name=\"wedstrijden2010\"></a>"
   ]
  },
  {
   "cell_type": "markdown",
   "id": "9d8612ff",
   "metadata": {},
   "source": [
    "vervolgens bekijken we hier hoeveel wedstrijden ons team in totaal heeft gespeeld per seizoen in het jaar 2010"
   ]
  },
  {
   "cell_type": "code",
   "execution_count": null,
   "id": "94b39614",
   "metadata": {},
   "outputs": [],
   "source": [
    "#Aantal wedstrijden 2010 per seizoen HC Heerenveen\n",
    "def seizoenwedstrijd(team):\n",
    "    \"\"\" telt het aantal wedstrijden dat een bepaald team heeft gespeeld( in dit geval SC Heerenveen) in een bepaald jaar(in dit geval in het jaar 2010). \n",
    "    parameters:\n",
    "    -----------\n",
    "    team: int\n",
    "    de ID van het team waarvan het totaal aantal wedstrijden word berekend\n",
    "            \n",
    "    returns:\n",
    "    -----------\n",
    "    pandas.DataFrame\n",
    "    een pandas DataFrame waarin je het totaal aantal gespeelde wedstrijden, zowel de uit als thuiswedstrijden ziet van het team waarvan je het team_ID invoert in de parameter.\n",
    "    Dat laat de volgende kolommen zien:\n",
    "    -season: de seizoenen waarin de wedtsrijden zijn gespeeld die het jaar 2010 bevatten.\n",
    "    -aantal_wedstrijden: het totaal aantal gespeelde wedstrijden van het gegeven seizoen en team.\n",
    "       \n",
    "    \"\"\" \n",
    "    query = f\"\"\"\n",
    "    SELECT season\n",
    "         , COUNT(match_api_id) AS aantal_wedstrijden\n",
    "    FROM Match\n",
    "    WHERE (home_team_api_id = {team}\n",
    "          OR away_team_api_id = {team})\n",
    "          AND date LIKE '2010%'\n",
    "    GROUP BY season;\n",
    "    \"\"\"\n",
    "    return(show_query(query))\n",
    "\n",
    "seizoenwedstrijd(10228)"
   ]
  },
  {
   "cell_type": "markdown",
   "id": "f256fc87",
   "metadata": {},
   "source": [
    "### Toon hoeveel punten ieder team in jouw competitie gehaald heeft per seizoen. <a name=\"puntencompetitie\"></a>"
   ]
  },
  {
   "cell_type": "markdown",
   "id": "4683379f",
   "metadata": {},
   "source": [
    "hier berekenen we hoeveel punten elk team in de competitie van ons team heft behaald per seizoen dat ze hebben gespeeld"
   ]
  },
  {
   "cell_type": "code",
   "execution_count": null,
   "id": "72a5ffbf",
   "metadata": {},
   "outputs": [],
   "source": [
    "#Punten per seizoen per team\n",
    "def seizoenspunten(league_id, season):\n",
    "    \"\"\" Laat het aantal punten van het gekozen team en seizoen zien die in de parameters zijn gegeven.\n",
    "    parameters:\n",
    "    -----------\n",
    "    league_id: int\n",
    "        De ID's van de verschillende leagues waar uit gekozen kan worden\n",
    "    season: str\n",
    "        het seizoen waarvan het aantal punten van het gekozen team wordt berekend\n",
    "    \n",
    "    returns:\n",
    "    -----------\n",
    "    pandas.DataFrame\n",
    "    een pandas DataFrame die het aantal behaalde punten voor elk team voor de league en het seizoen die in de parameters worden gekozen laat zien.\n",
    "    dat laat de volgende kolommen zien:\n",
    "    team_name: de naam van het team \n",
    "    points: het aantal punten van het team in de gekozen league en seizoen\n",
    "    \n",
    "    \"\"\"\n",
    " \n",
    "    query = f\"\"\"\n",
    "        SELECT team_long_name AS team_name\n",
    "             , SUM(CASE WHEN home_team_api_id = team_api_id THEN\n",
    "                         CASE WHEN home_team_goal > away_team_goal THEN + 3\n",
    "                              WHEN home_team_goal = away_team_goal THEN + 1\n",
    "                              ELSE + 0 END\n",
    "                        WHEN away_team_api_id = team_api_id THEN\n",
    "                         CASE WHEN away_team_goal > home_team_goal THEN + 3\n",
    "                              WHEN away_team_goal = home_team_goal THEN + 1\n",
    "                              ELSE + 0 END\n",
    "                        END) AS points\n",
    "    \n",
    "    FROM Match\n",
    "    JOIN Team\n",
    "        ON home_team_api_id = team_api_id OR away_team_api_id = team_api_id\n",
    "\n",
    "    WHERE season = \"{season}\" AND league_id = \"{league_id}\"\n",
    "    GROUP BY team_name\n",
    "    ORDER BY points DESC;\n",
    "\n",
    "\n",
    "\"\"\"\n",
    "    return(show_query(query))\n",
    "seizoenspunten(13274, '2010/2011')"
   ]
  },
  {
   "cell_type": "markdown",
   "id": "00f30ede",
   "metadata": {},
   "source": [
    "### Toon op welke plaats jouw team daarmee is geëindigd in de ranglijst. <a name=\"teamranglijst\"></a>"
   ]
  },
  {
   "cell_type": "markdown",
   "id": "6da86b90",
   "metadata": {},
   "source": [
    "vervolgens hebben we met de info van de vorige vraag een ranglijst kunnen maken om in te kunnen zien op welke plek alle teams uit de competitie zijn geëindigd. "
   ]
  },
  {
   "cell_type": "code",
   "execution_count": null,
   "id": "9b55d7d3",
   "metadata": {},
   "outputs": [],
   "source": [
    "#Plaats in ranglijst HC Heerenveen\n",
    "def seizoenspunten(league_id, season):\n",
    "    \"\"\" laat zien op welke plaats teams zijn geëindigd in een bepaalde league en seizoen die zijn gegeven in de parameters.\n",
    "    parameters: \n",
    "    -----------\n",
    "    league_id: int\n",
    "        de ID van de league waarvan je de ranglijst van de teams van wil hebben.\n",
    "    season: str\n",
    "        het seizoen waarvan je de ranglijst van de teams van wil hebben.\n",
    "        \n",
    "        \n",
    "    returns:\n",
    "    -----------\n",
    "    pandas.DataFrame\n",
    "    een pandas DataFrame die de geëindigd plaats, teamnaam en bijbehorende punten laat zien.\n",
    "    dat laat de volgende kolommen zien:\n",
    "    rank: de geëindigde plaatsen van de teams van de gekozen league en seizoen.\n",
    "    team_name: de namen van de teams van de gekozen league en seizoen.\n",
    "    points: het aantal behaalde punten van de teams van de gekozen league en seizoen.\n",
    "\n",
    "    \n",
    "    \"\"\"\n",
    "    \n",
    "    \n",
    "    query = f\"\"\"\n",
    "        SELECT ROW_NUMBER() OVER(ORDER BY SUM(CASE WHEN home_team_api_id = team_api_id THEN\n",
    "                                  CASE WHEN home_team_goal > away_team_goal THEN + 3\n",
    "                                      WHEN home_team_goal = away_team_goal THEN + 1\n",
    "                                      ELSE + 0 END\n",
    "                                 WHEN away_team_api_id = team_api_id THEN\n",
    "                                  CASE WHEN away_team_goal > home_team_goal THEN + 3\n",
    "                                        WHEN away_team_goal = home_team_goal THEN + 1\n",
    "                                      ELSE + 0 END\n",
    "                                 END)  DESC) AS rank\n",
    "             , team_long_name AS team_name\n",
    "             , SUM(CASE WHEN home_team_api_id = team_api_id THEN\n",
    "                         CASE WHEN home_team_goal > away_team_goal THEN + 3\n",
    "                              WHEN home_team_goal = away_team_goal THEN + 1\n",
    "                              ELSE + 0 END\n",
    "                        WHEN away_team_api_id = team_api_id THEN\n",
    "                         CASE WHEN away_team_goal > home_team_goal THEN + 3\n",
    "                              WHEN away_team_goal = home_team_goal THEN + 1\n",
    "                              ELSE + 0 END\n",
    "                        END) AS points\n",
    "    \n",
    "    FROM Match\n",
    "    JOIN Team\n",
    "        ON home_team_api_id = team_api_id OR away_team_api_id = team_api_id\n",
    "\n",
    "    WHERE season = \"{season}\" AND league_id = \"{league_id}\"\n",
    "    GROUP BY team_name\n",
    "    ORDER BY points DESC;\n",
    "\n",
    "\n",
    "\"\"\"\n",
    "    return(show_query(query))\n",
    "seizoenspunten(13274, '2010/2011')"
   ]
  },
  {
   "cell_type": "markdown",
   "id": "73235396",
   "metadata": {},
   "source": [
    "## 2. Bepalen invloed teameigenschappen. <a name=\"teaminfluence\"></a>"
   ]
  },
  {
   "cell_type": "markdown",
   "id": "1422cd17",
   "metadata": {},
   "source": [
    "In het tweede deel van de opdracht gaan wij op zoek naar het verband tussen de behaalde punten en de eigenschappen die een team heeft."
   ]
  },
  {
   "cell_type": "markdown",
   "id": "42b2aa8d",
   "metadata": {},
   "source": [
    "### Het mergen van het aantal punten per team en de teameigenschappen.  <a name=\"dataframeteameigenschappen\"></a>"
   ]
  },
  {
   "cell_type": "markdown",
   "id": "080bb1d2",
   "metadata": {},
   "source": [
    "Met de definitie \"seizoenspunten\" kunnen wij vervolgens een nieuw dataframe maken waarbij het dataframe met team eigenschappen wordt toegevoegd."
   ]
  },
  {
   "cell_type": "code",
   "execution_count": null,
   "id": "5b35c953",
   "metadata": {},
   "outputs": [],
   "source": [
    "df_punten = seizoenspunten(13274, '2010/2011')\n",
    "\n",
    "def df_merge(df):\n",
    "    \"\"\" voegt het aantal punten per gekozen team toe aan de teameigenschappen van het gekozen team.\n",
    "    parameters:\n",
    "    -----------\n",
    "    df: pandas.DataFrame\n",
    "        een dataframe met de teamnaam met hun bijbehorende punten in een gekozen seizoen\n",
    "        \n",
    "    returns:\n",
    "    -----------\n",
    "    pandas.DataFrame\n",
    "    een dataframe die gemerged die team_api_id,team_name,points bevat met hun bijbehoordende team attributen bevat.\n",
    "    dat laat de volgende kolommen zien:\n",
    "    - team_api_id: de ID van het team.\n",
    "    - team_name: de naam van het team.\n",
    "    - points: het totaal aantal punten van het gekozen team in een gekozen seizoen.\n",
    "    - team attributes: de attributen van de teams.\n",
    "    \n",
    "    \"\"\"\n",
    "    #merging on the team\n",
    "    df_merged_t = df.merge(df_team, left_on='team_name', right_on='team_long_name')\n",
    "    \n",
    "    #groupby on the columns we need  \n",
    "    df_sort = df_merged_t[[\"team_api_id\",\"team_name\", \"points\"]]\n",
    "\n",
    "    #merging on tean attributes\n",
    "    df_season_points = df_sort.merge(df_team_attributes, left_on='team_api_id', right_on='team_api_id')\n",
    "    \n",
    "    df_season_points[\"date\"] = pd.to_datetime(df_season_points.date)\n",
    "    df2 = df_season_points[df_season_points[\"date\"].isin(pd.date_range(\"2010-08-01\", \"2011-06-01\"))]\n",
    "    \n",
    "    return df2"
   ]
  },
  {
   "cell_type": "code",
   "execution_count": null,
   "id": "40259ab2",
   "metadata": {},
   "outputs": [],
   "source": [
    "total_df = df_merge(df_punten)\n",
    "total_df"
   ]
  },
  {
   "cell_type": "markdown",
   "id": "d212ac00",
   "metadata": {},
   "source": [
    "### Bepalen correlatie teameigenschappen en behaalde punten.  <a name=\"correlatie\"></a>"
   ]
  },
  {
   "cell_type": "markdown",
   "id": "f4ac2422",
   "metadata": {},
   "source": [
    "Aan de hand van het eerder gemaakte dataframe kunnen we vervolgens met behulp van heatmaps kijken hoe elke variabele zich verhoudt ten opzichte van het aantal behaalde punten in een seizoen."
   ]
  },
  {
   "cell_type": "code",
   "execution_count": null,
   "id": "eea2190d",
   "metadata": {},
   "outputs": [],
   "source": [
    "for team in total_df['team_name'].unique():\n",
    "\n",
    "    df_corr = total_df.corr() \n",
    "    points_corr = df_corr[\"points\"] \n",
    "    df_points_corr = pd.DataFrame(points_corr, columns=['points']) \n",
    "    df_heatmap = df_points_corr.drop(index='points')\n",
    "\n",
    "    pd.set_option(\"expand_frame_repr\", False)\n",
    "    df_heatmap.dropna(inplace=True)\n",
    "    plt.figure(figsize=(5,5))\n",
    "\n",
    "    s = sns.heatmap(df_heatmap.sort_values(by=['points'], ascending=False), cmap='RdYlGn') \n",
    "    plt.title(f\"Correlaties op het totaal aantal punten van {team}\") \n",
    "    plt.show() "
   ]
  },
  {
   "cell_type": "markdown",
   "id": "4539c2aa",
   "metadata": {},
   "source": [
    "### Visueel maken bevindingen.   <a name=\"visualisatie\"></a>"
   ]
  },
  {
   "cell_type": "markdown",
   "id": "b1d066a5",
   "metadata": {},
   "source": [
    "Om een beter inzicht te krijgen in hoe de sterkste en zwakste variabelen zich verhouden worden hieronder twee scatterplots aan gemaakt, hier kunnen wij zien dat de variabele \"defencePressure\" zich positief verhoudt ten opzichte van het behaalde aantal punten en \"buildupPlayPassing\" zich negatief verhoudt."
   ]
  },
  {
   "cell_type": "code",
   "execution_count": null,
   "id": "4612eb0e",
   "metadata": {},
   "outputs": [],
   "source": [
    "sns.regplot(data=total_df, x=\"points\", y=\"defencePressure\")\n",
    "plt.title(\"Scatterplot van punten tegenover defencePressure\") \n",
    "plt.show"
   ]
  },
  {
   "cell_type": "code",
   "execution_count": null,
   "id": "69f19bf8",
   "metadata": {},
   "outputs": [],
   "source": [
    "sns.regplot(data=total_df, x=\"points\", y=\"buildUpPlayPassing\")\n",
    "plt.title(\"Scatterplot van punten tegenover buildUpPlayPassing\") \n",
    "plt.show"
   ]
  },
  {
   "cell_type": "markdown",
   "id": "4b8c4b40",
   "metadata": {},
   "source": [
    "[Terug naar het begin](#jump)"
   ]
  },
  {
   "cell_type": "markdown",
   "id": "68036d5a",
   "metadata": {},
   "source": [
    "# Sprint 4    <a name=\"sprint4\"></a>"
   ]
  },
  {
   "cell_type": "markdown",
   "id": "466ca82e",
   "metadata": {},
   "source": [
    "## 1. Numerieke gemiddelde spelers. <a name=\"gemiddeldspeler\"></a>\n",
    "Maak op basis van het dataframe met de spelersattributen een nieuw dataframe waarin voor iedere speler slechts één rij is met daarin het gemiddelde van alle numerieke ratings.\n",
    "\n",
    "to do: merge tussen deze 2 en dan group by op player name/player id"
   ]
  },
  {
   "cell_type": "code",
   "execution_count": null,
   "id": "e7e53812",
   "metadata": {},
   "outputs": [],
   "source": [
    "df_p_pa = df_player.merge(df_player_attributes, on=['player_api_id', 'player_fifa_api_id'])\n",
    "df_p_pa_avg = df_p_pa.groupby('player_name').mean()\n",
    "display(df_p_pa_avg)"
   ]
  },
  {
   "cell_type": "markdown",
   "id": "b4164576",
   "metadata": {},
   "source": [
    "## 2. Toevoegen overall rating in dataframe match. <a name=\"overallrating\"></a>\n",
    "Voeg voor iedere regel in het dataframe match de overall rating toe van iedere speler. Hint: gebruik hierbij list comprehensions en een zelf-gedefinieerde functie.\n",
    "\n",
    "to do: laatste 30 kollommen weg halen, xy weg, drop rows missende waardes spelers, mergen met df_player_player-attributes"
   ]
  },
  {
   "cell_type": "code",
   "execution_count": null,
   "id": "bcdcf113",
   "metadata": {},
   "outputs": [],
   "source": [
    "##making match_fixed:\n",
    "#x, y en laatste 38 kolommen deleten & delete null values\n",
    "df_match_fixed = df_match.iloc[:, np.r_[0:11, 55:77]].dropna()\n",
    "df_match_fixed = df_match_fixed[df_match_fixed['league_id'] == 13274]\n",
    "\n",
    "display(df_match_fixed)"
   ]
  },
  {
   "cell_type": "code",
   "execution_count": null,
   "id": "7a51da2c",
   "metadata": {},
   "outputs": [],
   "source": [
    "##made some code that actually worked if we ignore the fact we need to do it for each date. (cuz f that)\n",
    "#nu on gemiddelde van df_p_pa_avg\n",
    "\n",
    "#list of column names\n",
    "home_players = ['home_player_' + str(x) for x in range(1,12)]\n",
    "away_players = ['away_player_' + str(x) for x in range(1,12)]\n",
    "players = home_players + away_players\n",
    "\n",
    "#definition to get the wanted rating for the given player (using df_p_pa_avg voor gemiddelde)\n",
    "\n",
    "def get_player_rating(player, rating):\n",
    "    player_rating = df_p_pa_avg.loc[df_p_pa_avg['player_api_id'] == player, f'{rating}']\n",
    "    return player_rating.values[0] if not player_rating.empty else np.nan\n",
    "#(.values[0] is to pick the first value in the list that comes out.. otherwise u get all ratings for each date from the player.. could maybe do something with that? idk)\n",
    "\n",
    "#small test:\n",
    "display(round(get_player_rating(109060.0, 'overall_rating'), 2))\n",
    "\n",
    "#u can use round in the function to round it off. but this is gemiddelde."
   ]
  },
  {
   "cell_type": "code",
   "execution_count": null,
   "id": "c23b5f88",
   "metadata": {},
   "outputs": [],
   "source": [
    "def player_rating(rating):\n",
    "    \n",
    "    ## applying it to df_match_fixed:\n",
    "    # Subset the df_match_fixed dataframe to only include the player columns\n",
    "    df_players = df_match_fixed[players]\n",
    "\n",
    "    # Use applymap to apply the function to each element in the df_players dataframe\n",
    "    #(i used round in the lambda cuz it looks good)\n",
    "    df_player_ratings = df_players.applymap(lambda x: round(get_player_rating(x, f'{rating}'), 2))\n",
    "    df_player_ratings = df_player_ratings.add_prefix(f'{rating}_')\n",
    "\n",
    "    # Merge the df_player_ratings dataframe with the original df_match_fixed dataframe\n",
    "    df_match_fixed_with_ratings = pd.concat([df_match_fixed, df_player_ratings], axis=1)\n",
    "    \n",
    "    return df_match_fixed_with_ratings\n",
    "\n",
    "player_rating('overall_rating')"
   ]
  },
  {
   "cell_type": "markdown",
   "id": "4a0d2355",
   "metadata": {},
   "source": [
    "## 3. Visualisatie overall rating speler van een seizoen.  <a name=\"visueeloverallseizoen\"></a>\n",
    "Maak voor één seizoen een visualisatie waarin je de gemiddelde overall rating van alle spelers over alle wedstrijden per team laat zien."
   ]
  },
  {
   "cell_type": "code",
   "execution_count": null,
   "id": "cc952ec9",
   "metadata": {
    "scrolled": true
   },
   "outputs": [],
   "source": [
    "#proper table \n",
    "def team_rating(rating):\n",
    "    \n",
    "    #column lists for home and away teams\n",
    "    home = [f'{rating}_home_player_' + str(x) for x in range(1,12)]\n",
    "    away = [f'{rating}_away_player_' + str(x) for x in range(1,12)]\n",
    "\n",
    "    #Average of eacht team per match\n",
    "    rating_home_team = df_match_fixed_with_ratings[home].mean(axis=1)\n",
    "    rating_away_team = df_match_fixed_with_ratings[away].mean(axis=1)\n",
    "\n",
    "    #adding the average to the df\n",
    "    df_match_fixed_with_ratings['rating_home_team'] = rating_home_team\n",
    "    df_match_fixed_with_ratings['rating_away_team'] = rating_away_team\n",
    "\n",
    "    #columns of home and away\n",
    "    df_home_team = df_match_fixed_with_ratings[['home_team_api_id', 'rating_home_team']]\n",
    "    df_away_team = df_match_fixed_with_ratings[['away_team_api_id', 'rating_away_team']]\n",
    "\n",
    "    #grouping them for each team.\n",
    "    df_home_team = df_home_team.groupby('home_team_api_id').mean()\n",
    "    df_away_team = df_away_team.groupby('away_team_api_id').mean()\n",
    "\n",
    "    #making df for rating for each team\n",
    "    df_rating_teams = pd.concat([df_home_team, df_away_team], axis = 1).mean(axis=1)\n",
    "    df_rating_teams = pd.DataFrame(df_rating_teams)\n",
    "    df_rating_teams.columns = [f'{rating}']\n",
    "\n",
    "    return df_rating_teams\n",
    "\n",
    "team_rating('overall_rating')"
   ]
  },
  {
   "cell_type": "code",
   "execution_count": null,
   "id": "fb7930b5",
   "metadata": {},
   "outputs": [],
   "source": [
    "#jesse's code\n",
    "\n",
    "df_seizoen = df_match_fixed[df_match_fixed['season'] == '2010/2011']\n",
    "\n",
    "df_team_ratings = pd.DataFrame()\n",
    "for col in thuis_speler_col:\n",
    "    df_merged = df_seizoen.merge(df_p_pa[['player_api_id', 'overall_rating']], left_on=col, right_on='player_api_id')\n",
    "    df_team_ratings = df_team_ratings.append(df_merged)\n",
    "    \n",
    "df_team_ratings = df_team_ratings[['home_team_api_id'\n",
    "                                   , 'overall_rating']].groupby('home_team_api_id').mean().sort_values('overall_rating', ascending=False)\n",
    "\n",
    "#plotting the graph using matplotlib\n",
    "import matplotlib.pyplot as plt\n",
    "\n",
    "plt.bar(x=df_team_ratings.index, height=df_team_ratings['overall_rating'])\n",
    "plt.xlabel('Team ID')\n",
    "plt.ylabel('Gemiddelde overall rating')\n",
    "plt.title('Gemiddelde overall rating per team voor seizoen 2010/2011')\n",
    "plt.show()\n",
    "plt.show()"
   ]
  },
  {
   "cell_type": "markdown",
   "id": "51aa2d5e",
   "metadata": {},
   "source": [
    "## 4. Visualisatie punten per wedstrijd per team. <a name=\"visueelpuntenwedstrijd\"></a>\n",
    "Maak voor hetzelfde seizoen een visualisatie waarin je het gemiddelde aantal punten per wedstrijd van ieder team laat zien."
   ]
  },
  {
   "cell_type": "code",
   "execution_count": null,
   "id": "5c293694",
   "metadata": {},
   "outputs": [],
   "source": [
    "# per gespeelde wedstrijd van seizoen 2010/2011 het aantal punten tonen\n",
    "punten_home_team = pd.read_sql(\"\"\"\n",
    "        SELECT t.team_long_name as team_name, \n",
    "            m.home_team_api_id AS home_id, \n",
    "            m.date as date,\n",
    "\n",
    "                SUM(CASE WHEN m.home_team_goal > m.away_team_goal THEN 3\n",
    "                    WHEN m.home_team_goal = m.away_team_goal THEN 1\n",
    "                        ELSE 0 END) AS home_points            \n",
    "            \n",
    "            FROM Match AS m \n",
    "        \n",
    "                INNER JOIN team AS t \n",
    "                    ON t.team_api_id = m.home_team_api_id\n",
    "                        WHERE m.season = '2010/2011' AND team_name = 'SC Heerenveen' \n",
    "        \n",
    "                GROUP BY m.home_team_api_id, m.away_team_api_id;\n",
    "\n",
    "\"\"\", con)\n",
    "\n",
    "punten_home_team"
   ]
  },
  {
   "cell_type": "code",
   "execution_count": null,
   "id": "ab317f63",
   "metadata": {},
   "outputs": [],
   "source": [
    "# Punten (allen voor gekozen voetbalteam) wat ze hebben gescoord tijden away wedstrijden \n",
    "punten_away_team = pd.read_sql(\"\"\"\n",
    "        SELECT t.team_long_name AS team_name, \n",
    "            m.away_team_api_id AS away_id, \n",
    "            m.date AS date,\n",
    "\n",
    "            SUM(CASE WHEN m.away_team_goal > m.home_team_goal THEN 3\n",
    "                WHEN m.away_team_goal = m.home_team_goal THEN 1\n",
    "                    ELSE 0 END) AS away_points            \n",
    "\n",
    "            FROM Match AS m \n",
    "\n",
    "                INNER JOIN team AS t \n",
    "                    ON t.team_api_id = m.away_team_api_id\n",
    "                        WHERE m.season = '2010/2011' AND team_name = 'SC Heerenveen' \n",
    "\n",
    "                GROUP BY m.home_team_api_id, m.away_team_api_id;\n",
    "\n",
    "\"\"\", con)\n",
    "\n",
    "punten_away_team\n"
   ]
  },
  {
   "cell_type": "code",
   "execution_count": null,
   "id": "5eb97a0e",
   "metadata": {},
   "outputs": [],
   "source": [
    "# het totaal aantal punten van alle teams\n",
    "# voor seizoen 2010/2011 \n",
    "# zowel als home en away wedstrijden \n",
    "total_points2 = pd.read_sql(\"\"\"\n",
    "        SELECT team_name, SUM(points) as total_points\n",
    "        FROM (\n",
    "            SELECT t.team_long_name as team_name, \n",
    "                m.home_team_api_id AS home_id, \n",
    "\n",
    "                SUM(CASE WHEN m.home_team_goal > m.away_team_goal THEN 3\n",
    "                    WHEN m.home_team_goal = m.away_team_goal THEN 1\n",
    "                    ELSE 0 END) AS points\n",
    "\n",
    "            FROM Match AS m \n",
    "\n",
    "                INNER JOIN team AS t \n",
    "                    ON t.team_api_id = m.home_team_api_id\n",
    "                        WHERE m.season = '2010/2011' AND team_name = 'SC Heerenveen' \n",
    "\n",
    "                GROUP BY m.home_team_api_id, m.away_team_api_id\n",
    "\n",
    "            UNION ALL\n",
    "\n",
    "            SELECT t.team_long_name as team_name, \n",
    "                m.away_team_api_id AS away_id, \n",
    "\n",
    "                SUM(CASE WHEN m.away_team_goal > m.home_team_goal THEN 3\n",
    "                    WHEN m.away_team_goal = m.home_team_goal THEN 1\n",
    "                    ELSE 0 END) AS points\n",
    "\n",
    "            FROM Match AS m \n",
    "\n",
    "                INNER JOIN team AS t \n",
    "                    ON t.team_api_id = m.away_team_api_id\n",
    "                        WHERE m.season = '2010/2011'\n",
    "\n",
    "                GROUP BY m.home_team_api_id, m.away_team_api_id\n",
    "        ) AS subquery\n",
    "\n",
    "        GROUP BY team_name\n",
    "        ORDER BY total_points DESC;\n",
    "\"\"\", con)\n",
    "\n",
    "total_points2\n",
    "\n",
    "# ook gesorteerd van hoog naar laag\n",
    "# sc heerenveen is lowkey wel goed"
   ]
  },
  {
   "cell_type": "code",
   "execution_count": null,
   "id": "809c6130",
   "metadata": {},
   "outputs": [],
   "source": [
    "# in een functie gezet zodat ik er een visualisatie van kon maken \n",
    "def total_points_by_team(season, team_name):\n",
    "    con = sqlite3.connect('database.sqlite')\n",
    "    query = f\"\"\"\n",
    "        SELECT team_name, SUM(points) as total_points\n",
    "        FROM (\n",
    "            SELECT t.team_long_name as team_name, \n",
    "                m.home_team_api_id AS home_id, \n",
    "\n",
    "                SUM(CASE WHEN m.home_team_goal > m.away_team_goal THEN 3\n",
    "                    WHEN m.home_team_goal = m.away_team_goal THEN 1\n",
    "                    ELSE 0 END) AS points\n",
    "\n",
    "            FROM Match AS m \n",
    "\n",
    "                INNER JOIN team AS t \n",
    "                    ON t.team_api_id = m.home_team_api_id\n",
    "                        WHERE m.season = '{season}' AND team_name = '{team_name}' \n",
    "\n",
    "                GROUP BY m.home_team_api_id, m.away_team_api_id\n",
    "\n",
    "            UNION ALL\n",
    "\n",
    "            SELECT t.team_long_name as team_name, \n",
    "                m.away_team_api_id AS away_id, \n",
    "\n",
    "                SUM(CASE WHEN m.away_team_goal > m.home_team_goal THEN 3\n",
    "                    WHEN m.away_team_goal = m.home_team_goal THEN 1\n",
    "                    ELSE 0 END) AS points\n",
    "\n",
    "            FROM Match AS m \n",
    "\n",
    "                INNER JOIN team AS t \n",
    "                    ON t.team_api_id = m.away_team_api_id\n",
    "                        WHERE m.season = '{season}'\n",
    "\n",
    "                GROUP BY m.home_team_api_id, m.away_team_api_id\n",
    "        ) AS subquery\n",
    "\n",
    "        GROUP BY team_name\n",
    "        ORDER BY total_points DESC;\n",
    "    \"\"\"\n",
    "    total_points = pd.read_sql(query, con)\n",
    "    con.close()\n",
    "    return total_points"
   ]
  },
  {
   "cell_type": "markdown",
   "id": "6fe7b220",
   "metadata": {},
   "source": [
    "Even koekeloeren \n",
    "total_points = total_points_by_team('2010/2011', 'SC Heerenveen')\n",
    "print(total_points)"
   ]
  },
  {
   "cell_type": "code",
   "execution_count": null,
   "id": "a79f09d0",
   "metadata": {},
   "outputs": [],
   "source": [
    "# de visualisatie van alle teams, voor seizoen 2010/2011 \n",
    "total_points = total_points_by_team('2010/2011', 'SC Heerenveen')\n",
    "\n",
    "sns.set_style('whitegrid')\n",
    "plt.figure(figsize=(20, 150))\n",
    "sns.barplot(data=total_points, y='team_name', x='total_points', color='royalblue')\n",
    "plt.title('Totale punten per team in seizoen 2010/2011', fontsize=16)\n",
    "plt.xlabel('Totale punten', fontsize=10)\n",
    "plt.ylabel('Team', fontsize=10)\n",
    "plt.show()"
   ]
  },
  {
   "cell_type": "markdown",
   "id": "b0cd5e75",
   "metadata": {},
   "source": [
    "## 5. Visualisatie vergelijking overall rating & punten per team. <a name=\"overallratingpuntenteam\"></a>\n",
    "Toon een visualisatie waarin je de gemiddelde overall ratings per team vergelijkt met het gemiddelde aantal punten per team."
   ]
  },
  {
   "cell_type": "markdown",
   "id": "f94a61d9",
   "metadata": {},
   "source": [
    "# functie om de gemiddelde overall ratings per team op te halen\n",
    "def avg_rating_by_team(season):\n",
    "    con = sqlite3.connect('database.sqlite')\n",
    "    query = (\"\"\"\n",
    "        SELECT t.team_long_name AS team_name, AVG(pa.overall_rating) AS avg_rating\n",
    "        FROM Player_Attributes AS pa\n",
    "            INNER JOIN (\n",
    "                SELECT team_api_id, team_long_name\n",
    "                FROM Team\n",
    "            ) AS t\n",
    "                ON pa.team_api_id = t.team_api_id\n",
    "        WHERE pa.date BETWEEN '{season}-07-01' AND '{season}-06-30'\n",
    "        GROUP BY team_name\n",
    "        ORDER BY avg_rating DESC;\n",
    "    \"\"\", con)\n",
    "    avg_ratings = pd.read_sql(query, con)\n",
    "    con.close()\n",
    "    return avg_ratings"
   ]
  },
  {
   "cell_type": "code",
   "execution_count": null,
   "id": "0020ae27",
   "metadata": {},
   "outputs": [],
   "source": [
    "\n",
    "\n",
    "season = '2010/2011'\n",
    "avg_rating = avg_rating_by_team(season)\n",
    "\n",
    "plt.figure(figsize=(12, 6))\n",
    "plt.bar(avg_rating['team_name'], avg_rating['avg_rating'])\n",
    "plt.title(f'Gemiddelde overall ratings per team - {season}')\n",
    "plt.xlabel('Team')\n",
    "plt.xticks(rotation=90)\n",
    "plt.ylabel('Gemiddelde overall rating')\n",
    "plt.show()\n"
   ]
  },
  {
   "cell_type": "markdown",
   "id": "08c02736",
   "metadata": {},
   "source": [
    "## 6. Toepassen functie op andere rating. <a name=\"definitieandererating\"></a>\n",
    "Herhaal stappen 3 tot en met 5 voor een andere ‘rating’. Hint: het gebruik van functies maakt het herhalen van handelingen veel eenvoudiger."
   ]
  },
  {
   "cell_type": "code",
   "execution_count": null,
   "id": "d89fe8f9",
   "metadata": {},
   "outputs": [],
   "source": []
  },
  {
   "cell_type": "markdown",
   "id": "5a2db479",
   "metadata": {},
   "source": [
    "[Terug naar het begin](#jump)"
   ]
  },
  {
   "cell_type": "markdown",
   "id": "fa1244bc",
   "metadata": {},
   "source": [
    "# Sprint 5"
   ]
  },
  {
   "cell_type": "markdown",
   "id": "eb809330",
   "metadata": {},
   "source": [
    "# 1. Benoem op basis van bovenstaande met welke vorm van supervised learning we hier te maken hebben."
   ]
  },
  {
   "cell_type": "code",
   "execution_count": null,
   "id": "436368a1",
   "metadata": {},
   "outputs": [],
   "source": [
    "#blieb"
   ]
  },
  {
   "cell_type": "markdown",
   "id": "9d68c5f3",
   "metadata": {},
   "source": [
    "# 2. Voeg het resultaat van iedere wedstrijd toe aan het match dataframe."
   ]
  },
  {
   "cell_type": "code",
   "execution_count": null,
   "id": "1f56683f",
   "metadata": {},
   "outputs": [],
   "source": [
    "# blieb"
   ]
  },
  {
   "cell_type": "markdown",
   "id": "57e51e42",
   "metadata": {},
   "source": [
    "# 3. Maak een keuze voor de ‘features’ die je wilt gebruiken om het resultaat te voorspellen. Onderbouw je keuzes."
   ]
  },
  {
   "cell_type": "markdown",
   "id": "4aecbfeb",
   "metadata": {},
   "source": [
    "- buildUpPlaySpeed : Dit beschrijft de snelheid van het spelopbouw van het team. Teams met hogere snelheden kunnen sneller aanvallen, wat kan leiden tot meer doelpunten.\n",
    "\n",
    "- chanceCreationShooting: Dit geeft aan hoeveel schietkansen een team creëert. Teams die meer schietkansen creëren, hebben waarschijnlijk meer mogelijkheden om te scoren.\n",
    "\n",
    "- defencePressure: Teams die hoge druk uitoefenen op de tegenstander kunnen de mogelijkheden voor de tegenstander om te scoren verminderen.\n",
    "\n",
    "- home_team_goal, away_team_goal zijn er om als doelvariabelen te gebruiken\n",
    "\n",
    "- De 'home_team_api_id' en 'away_team_api_id' kunnen worden gebruikt om andere kenmerken van de respectieve teams op te halen uit andere datasets\n"
   ]
  },
  {
   "cell_type": "markdown",
   "id": "d07ffa49",
   "metadata": {},
   "source": [
    "# 4. Maak op basis hiervan een nieuw dataframe dat alleen de features en het resultaat per wedstrijd bevat."
   ]
  },
  {
   "cell_type": "code",
   "execution_count": null,
   "id": "0ec01fea",
   "metadata": {},
   "outputs": [],
   "source": [
    "\n",
    "df_new = pd.merge(df_match[['home_team_goal', 'away_team_goal', 'home_team_api_id', 'away_team_api_id']], df_team_attributes[['team_api_id', 'buildUpPlaySpeed', 'chanceCreationShooting', 'defencePressure']], left_on='home_team_api_id', right_on='team_api_id', how='left')\n",
    "df_new = pd.merge(df_new, df_team_attributes[['team_api_id', 'buildUpPlaySpeed', 'chanceCreationShooting', 'defencePressure']], left_on='away_team_api_id', right_on='team_api_id', how='left', suffixes=('_home', '_away'))\n",
    "\n"
   ]
  },
  {
   "cell_type": "markdown",
   "id": "695df7c7",
   "metadata": {},
   "source": [
    "# 5. Gebruik minimaal twee algoritmes om de resultaten van de wedstrijden te voorspellen. Onderbouw je keuzes."
   ]
  },
  {
   "cell_type": "code",
   "execution_count": null,
   "id": "f30f1bac",
   "metadata": {},
   "outputs": [],
   "source": [
    "# Vervang alleen de NaN's voor de kolommen die we in het model gebruiken\n",
    "features_cols = ['buildUpPlaySpeed_home', 'chanceCreationShooting_home', 'defencePressure_home', \n",
    "                 'buildUpPlaySpeed_away', 'chanceCreationShooting_away', 'defencePressure_away']\n",
    "\n",
    "df_new[features_cols] = df_new[features_cols].fillna(df_new.mean())\n"
   ]
  },
  {
   "cell_type": "code",
   "execution_count": null,
   "id": "8b7666a1",
   "metadata": {},
   "outputs": [],
   "source": [
    "df_new.isnull().sum()"
   ]
  },
  {
   "cell_type": "code",
   "execution_count": null,
   "id": "51844644",
   "metadata": {},
   "outputs": [],
   "source": [
    "df_new['home_win'] = (df_new['home_team_goal'] > df_new['away_team_goal']).astype(int)\n",
    "\n",
    "\n"
   ]
  },
  {
   "cell_type": "code",
   "execution_count": null,
   "id": "9a77a8aa",
   "metadata": {},
   "outputs": [],
   "source": [
    "from sklearn.model_selection import train_test_split\n",
    "\n",
    "features = df_new[['buildUpPlaySpeed_home', 'chanceCreationShooting_home', 'defencePressure_home', 'buildUpPlaySpeed_away', 'chanceCreationShooting_away', 'defencePressure_away']]\n",
    "target = df_new['home_win']\n",
    "\n",
    "X_train, X_test, y_train, y_test = train_test_split(features, target, test_size=0.2, random_state=42)\n"
   ]
  },
  {
   "cell_type": "code",
   "execution_count": null,
   "id": "5e70d14a",
   "metadata": {},
   "outputs": [],
   "source": [
    "from sklearn.linear_model import LogisticRegression\n",
    "from sklearn.metrics import accuracy_score\n",
    "\n",
    "# Train het model\n",
    "lr = LogisticRegression()\n",
    "lr.fit(X_train, y_train)\n",
    "\n",
    "# Maak voorspellingen op de testset\n",
    "y_pred_lr = lr.predict(X_test)\n",
    "\n",
    "# Bereken de nauwkeurigheid\n",
    "accuracy_lr = accuracy_score(y_test, y_pred_lr)\n",
    "print(f'Nauwkeurigheid van Logistieke Regressie: {accuracy_lr}')\n"
   ]
  },
  {
   "cell_type": "code",
   "execution_count": null,
   "id": "3ba06598",
   "metadata": {},
   "outputs": [],
   "source": [
    "from sklearn.ensemble import RandomForestClassifier\n",
    "\n",
    "# Train het model\n",
    "rf = RandomForestClassifier()\n",
    "rf.fit(X_train, y_train)\n",
    "\n",
    "# Maak voorspellingen op de testset\n",
    "y_pred_rf = rf.predict(X_test)\n",
    "\n",
    "# Bereken de nauwkeurigheid\n",
    "accuracy_rf = accuracy_score(y_test, y_pred_rf)\n",
    "print(f'Nauwkeurigheid van Random Forest Classificator: {accuracy_rf}')\n"
   ]
  },
  {
   "cell_type": "markdown",
   "id": "8049c4ea",
   "metadata": {},
   "source": [
    "# 6. Evalueer en verbeter je model op basis van de juiste metrics. Kies het beste model met de beste hyperparameters en onderbouw je keuze."
   ]
  },
  {
   "cell_type": "code",
   "execution_count": null,
   "id": "93e17035",
   "metadata": {},
   "outputs": [],
   "source": [
    "# feelings be annoying"
   ]
  },
  {
   "cell_type": "markdown",
   "id": "bf9cb1c5",
   "metadata": {},
   "source": [
    "# 7. In dit project wordt met persoonsdata gewerkt. Dit vraagt om zorgvuldigheid. Inventariseer welke data over de spelers worden verzameld"
   ]
  },
  {
   "cell_type": "markdown",
   "id": "c9463a58",
   "metadata": {},
   "source": [
    "Geef aan welke wetgeving daarbij van toepassing is en wat dit betekent voor het gebruik van de data.\n",
    "Bekijk vervolgens welke mogelijke ethische bezwaren kunnen ontstaan bij het gebruik van de data.\n",
    "Adviseer de directeur van je club over oplossingen waarmee de mogelijke problemen kunnen worden voorkomen."
   ]
  },
  {
   "cell_type": "code",
   "execution_count": null,
   "id": "d0722fc7",
   "metadata": {},
   "outputs": [],
   "source": [
    "# movimento lento"
   ]
  },
  {
   "cell_type": "markdown",
   "id": "16606cd3",
   "metadata": {},
   "source": [
    "# Sprint 6"
   ]
  },
  {
   "cell_type": "code",
   "execution_count": null,
   "id": "d532a76d",
   "metadata": {},
   "outputs": [],
   "source": [
    "# je vader"
   ]
  }
 ],
 "metadata": {
  "kernelspec": {
   "display_name": "Python 3 (ipykernel)",
   "language": "python",
   "name": "python3"
  },
  "language_info": {
   "codemirror_mode": {
    "name": "ipython",
    "version": 3
   },
   "file_extension": ".py",
   "mimetype": "text/x-python",
   "name": "python",
   "nbconvert_exporter": "python",
   "pygments_lexer": "ipython3",
   "version": "3.9.12"
  }
 },
 "nbformat": 4,
 "nbformat_minor": 5
}
